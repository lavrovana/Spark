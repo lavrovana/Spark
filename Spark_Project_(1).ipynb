{
  "nbformat": 4,
  "nbformat_minor": 0,
  "metadata": {
    "colab": {
      "name": "Spark_Project (1).ipynb",
      "provenance": [],
      "collapsed_sections": []
    },
    "kernelspec": {
      "name": "python3",
      "display_name": "Python 3"
    }
  },
  "cells": [
    {
      "cell_type": "markdown",
      "metadata": {
        "id": "dwqKU-PhhC58"
      },
      "source": [
        "#[Apache Spark 3.0.0 with Google Colab](http://apache.osuosl.org/spark/spark-3.0.0/)\n",
        "\n",
        "**Author: MA Raza**\n",
        "\n",
        "This is the working google collaboratory notebook example of setting up  recently release spark 3.0.0 in google colab. \n",
        "\n",
        "* Installing Java in the Google Colaboratory\n",
        "* Setting up Spark 3.0 in the Google Colaboratory\n",
        "* A test example\n",
        "\n",
        "**References:**\n",
        "\n",
        "1. http://apache.osuosl.org/spark/spark-3.0.0/\n",
        "2. https://medium.com/@sushantgautam_930/apache-spark-in-google-collaboratory-in-3-steps-e0acbba654e6\n",
        "3. https://notebooks.gesis.org/binder/jupyter/user/databricks-koalas-kuv5qckt/notebooks/docs/source/getting_started/10min.ipynb\n",
        "4. https://medium.com/@amjadraza24/getting-started-spark3-0-0-with-google-colab-9796d350d78\n",
        "\n"
      ]
    },
    {
      "cell_type": "markdown",
      "metadata": {
        "id": "2COZzvqcf-Pg"
      },
      "source": [
        "# Setting up Spark 3.0.0 in the Google Colaboratory\n",
        "\n",
        "This notebook comprises the instructions to run Sprak and pyspark in google colabboratory framework. \n",
        "\n",
        "We will be running the excises of  some basic functions on using koalas\n",
        "\n",
        "We will install below programs\n",
        "\n",
        "* Java 8\n",
        "* spark-3.0.0\n",
        "* Hadoop3.2 \n",
        "* [Findspark](https://github.com/minrk/findspark)\n",
        "\n",
        "\n",
        "This installs Apache Spark 3.0.0, Java 8, and [Findspark](https://github.com/minrk/findspark), a library that makes it easy for Python to find Spark.\n",
        "\n",
        "Run below set of commands to install spark. \n",
        "\n",
        "**Change the location/version of spark version of your choice**\n",
        "\n",
        "**[Apache Spark in Google Collaboratory In 3 steps.](https://medium.com/@sushantgautam_930/apache-spark-in-google-collaboratory-in-3-steps-e0acbba654e6)**\n",
        "\n",
        "> Make sure the spark-version you are downloading is availbale on target link\n",
        "\n"
      ]
    },
    {
      "cell_type": "code",
      "metadata": {
        "id": "LA_hXPO-992T"
      },
      "source": [
        "Пакеты TCP и UDP (все потоковое идет по UDP)"
      ],
      "execution_count": null,
      "outputs": []
    },
    {
      "cell_type": "code",
      "metadata": {
        "id": "kqnO1IQ9Eg6z"
      },
      "source": [
        "Можно создавать презентации в Jupiter Notebook"
      ],
      "execution_count": null,
      "outputs": []
    },
    {
      "cell_type": "code",
      "metadata": {
        "id": "_xZbuct8evLA"
      },
      "source": [
        "Light GBM (избавляется от ноги, которая показывает плохой результат)"
      ],
      "execution_count": null,
      "outputs": []
    },
    {
      "cell_type": "code",
      "metadata": {
        "id": "3MZdDu9LhLwN"
      },
      "source": [
        "# Run below commands\n",
        "!apt-get install openjdk-8-jdk-headless -qq > /dev/null\n",
        "!wget -q http://apache.osuosl.org/spark/spark-3.0.2/spark-3.0.2-bin-hadoop3.2.tgz\n",
        "!tar xf spark-3.0.2-bin-hadoop3.2.tgz\n",
        "!pip install -q findspark"
      ],
      "execution_count": 1,
      "outputs": []
    },
    {
      "cell_type": "code",
      "metadata": {
        "id": "yKbDZzlDe_aT",
        "colab": {
          "base_uri": "https://localhost:8080/"
        },
        "outputId": "785a8f3c-cbb8-4612-ef53-682dc9cdc28e"
      },
      "source": [
        "!ls -a"
      ],
      "execution_count": 2,
      "outputs": [
        {
          "output_type": "stream",
          "text": [
            ".   .config\t spark-3.0.2-bin-hadoop3.2\n",
            "..  sample_data  spark-3.0.2-bin-hadoop3.2.tgz\n"
          ],
          "name": "stdout"
        }
      ]
    },
    {
      "cell_type": "code",
      "metadata": {
        "id": "sit9TX0chlNF"
      },
      "source": [
        "import os\n",
        "os.environ[\"JAVA_HOME\"] = \"/usr/lib/jvm/java-8-openjdk-amd64\"\n",
        "os.environ[\"SPARK_HOME\"] = \"/content/spark-3.0.2-bin-hadoop3.2\""
      ],
      "execution_count": 3,
      "outputs": []
    },
    {
      "cell_type": "markdown",
      "metadata": {
        "id": "da7M2Wi1jC1c"
      },
      "source": [
        "## Spark Installation test\n",
        "Lets test the installation of spark in our google colab environment. "
      ]
    },
    {
      "cell_type": "code",
      "metadata": {
        "id": "Y18KVg34jkXj",
        "colab": {
          "base_uri": "https://localhost:8080/"
        },
        "outputId": "950e0c40-b112-4496-adf7-474650625839"
      },
      "source": [
        "import findspark\n",
        "findspark.init()\n",
        "\n",
        "from pyspark.sql import SparkSession\n",
        "\n",
        "spark = SparkSession.builder.master(\"local[*]\").getOrCreate()\n",
        "# Test the spark \n",
        "df = spark.createDataFrame([{\"hello\": \"world\"} for x in range(1000)])\n",
        "\n",
        "df.show(3, False)\n"
      ],
      "execution_count": 4,
      "outputs": [
        {
          "output_type": "stream",
          "text": [
            "/content/spark-3.0.2-bin-hadoop3.2/python/pyspark/sql/session.py:381: UserWarning: inferring schema from dict is deprecated,please use pyspark.sql.Row instead\n",
            "  warnings.warn(\"inferring schema from dict is deprecated,\"\n"
          ],
          "name": "stderr"
        },
        {
          "output_type": "stream",
          "text": [
            "+-----+\n",
            "|hello|\n",
            "+-----+\n",
            "|world|\n",
            "|world|\n",
            "|world|\n",
            "+-----+\n",
            "only showing top 3 rows\n",
            "\n"
          ],
          "name": "stdout"
        }
      ]
    },
    {
      "cell_type": "code",
      "metadata": {
        "id": "pe6Mlcs29vX-",
        "colab": {
          "base_uri": "https://localhost:8080/"
        },
        "outputId": "98b3a981-1fe1-490e-f6ef-3ec0125cd9e1"
      },
      "source": [
        "# Check the pyspark version\n",
        "import pyspark\n",
        "print(pyspark.__version__)"
      ],
      "execution_count": 5,
      "outputs": [
        {
          "output_type": "stream",
          "text": [
            "3.0.2\n"
          ],
          "name": "stdout"
        }
      ]
    },
    {
      "cell_type": "markdown",
      "metadata": {
        "id": "VjUld8S6bRHz"
      },
      "source": [
        "# Conclusions\n",
        "\n",
        "In this notebook, we learned\n",
        "\n",
        "* Running spark 3.0.0-preview2 in Google Colab\n",
        "* Running pysprak3.0.0dev2\n"
      ]
    },
    {
      "cell_type": "code",
      "metadata": {
        "id": "At0dtijv-aBn",
        "colab": {
          "base_uri": "https://localhost:8080/",
          "height": 216
        },
        "outputId": "a1354475-86ff-49ac-e5ec-a8edb3400585"
      },
      "source": [
        "spark"
      ],
      "execution_count": 6,
      "outputs": [
        {
          "output_type": "execute_result",
          "data": {
            "text/html": [
              "\n",
              "            <div>\n",
              "                <p><b>SparkSession - in-memory</b></p>\n",
              "                \n",
              "        <div>\n",
              "            <p><b>SparkContext</b></p>\n",
              "\n",
              "            <p><a href=\"http://18db2c5f677c:4040\">Spark UI</a></p>\n",
              "\n",
              "            <dl>\n",
              "              <dt>Version</dt>\n",
              "                <dd><code>v3.0.2</code></dd>\n",
              "              <dt>Master</dt>\n",
              "                <dd><code>local[*]</code></dd>\n",
              "              <dt>AppName</dt>\n",
              "                <dd><code>pyspark-shell</code></dd>\n",
              "            </dl>\n",
              "        </div>\n",
              "        \n",
              "            </div>\n",
              "        "
            ],
            "text/plain": [
              "<pyspark.sql.session.SparkSession at 0x7fdf7d7dd090>"
            ]
          },
          "metadata": {
            "tags": []
          },
          "execution_count": 6
        }
      ]
    },
    {
      "cell_type": "code",
      "metadata": {
        "id": "lDcPDkCBDkUT"
      },
      "source": [
        "import os\n",
        "import glob\n",
        "import sys\n",
        "import pandas as pd\n",
        "\n",
        "import pyspark\n",
        "from pyspark import SparkContext, SparkConf\n",
        "from pyspark.sql import SparkSession\n",
        "\n",
        "\n",
        "\n",
        "conf = SparkConf().setAppName(\"TestName\")"
      ],
      "execution_count": 7,
      "outputs": []
    },
    {
      "cell_type": "code",
      "metadata": {
        "id": "mGo13icjDwMO"
      },
      "source": [
        "sc = SparkContext.getOrCreate(conf=conf)"
      ],
      "execution_count": 8,
      "outputs": []
    },
    {
      "cell_type": "code",
      "metadata": {
        "id": "aiHmT2mUEGyd",
        "colab": {
          "resources": {
            "http://localhost:8080/nbextensions/google.colab/files.js": {
              "data": "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",
              "ok": true,
              "headers": [
                [
                  "content-type",
                  "application/javascript"
                ]
              ],
              "status": 200,
              "status_text": ""
            }
          },
          "base_uri": "https://localhost:8080/",
          "height": 72
        },
        "outputId": "48d2fa1f-a223-4370-d1de-dda0992dbba0"
      },
      "source": [
        "# Создаю RDD из подгружаемого файла\n",
        "from google.colab import files\n",
        "RedditNews = files.upload() # then browse, select the files. It's then uploaded\n",
        "\n"
      ],
      "execution_count": 9,
      "outputs": [
        {
          "output_type": "display_data",
          "data": {
            "text/html": [
              "\n",
              "     <input type=\"file\" id=\"files-f3beae7f-c20e-4177-86d2-246a92526215\" name=\"files[]\" multiple disabled\n",
              "        style=\"border:none\" />\n",
              "     <output id=\"result-f3beae7f-c20e-4177-86d2-246a92526215\">\n",
              "      Upload widget is only available when the cell has been executed in the\n",
              "      current browser session. Please rerun this cell to enable.\n",
              "      </output>\n",
              "      <script src=\"/nbextensions/google.colab/files.js\"></script> "
            ],
            "text/plain": [
              "<IPython.core.display.HTML object>"
            ]
          },
          "metadata": {
            "tags": []
          }
        },
        {
          "output_type": "stream",
          "text": [
            "Saving RedditNews.csv to RedditNews.csv\n"
          ],
          "name": "stdout"
        }
      ]
    },
    {
      "cell_type": "markdown",
      "metadata": {
        "id": "qCACRitrG_UM"
      },
      "source": [
        ""
      ]
    },
    {
      "cell_type": "code",
      "metadata": {
        "colab": {
          "base_uri": "https://localhost:8080/",
          "height": 221
        },
        "id": "IJjC_5wEI3F1",
        "outputId": "27cd84de-f118-43cd-f41a-234b88e964d2"
      },
      "source": [
        "# простой DF\n",
        "RedditNews = pd.read_csv('RedditNews.csv', header=0)\n",
        "news = spark.createDataFrame(RedditNews)\n",
        "\n",
        "# ещё один способ визуализации\n",
        "display(news.show(5))"
      ],
      "execution_count": 10,
      "outputs": [
        {
          "output_type": "stream",
          "text": [
            "+----------+--------------------+\n",
            "|      Date|                News|\n",
            "+----------+--------------------+\n",
            "|2016-07-01|A 117-year-old wo...|\n",
            "|2016-07-01|IMF chief backs A...|\n",
            "|2016-07-01|The president of ...|\n",
            "|2016-07-01|British Man Who M...|\n",
            "|2016-07-01|100+ Nobel laurea...|\n",
            "+----------+--------------------+\n",
            "only showing top 5 rows\n",
            "\n"
          ],
          "name": "stdout"
        },
        {
          "output_type": "display_data",
          "data": {
            "text/plain": [
              "None"
            ]
          },
          "metadata": {
            "tags": []
          }
        }
      ]
    },
    {
      "cell_type": "code",
      "metadata": {
        "colab": {
          "base_uri": "https://localhost:8080/",
          "height": 235
        },
        "id": "GNpR8okQJN41",
        "outputId": "6f55fd63-ed73-418a-c65d-97c1900d1fba"
      },
      "source": [
        "# Подгружаем данные DJI\n",
        "pd.core.common.is_list_like = pd.api.types.is_list_like\n",
        "from pandas_datareader import data\n",
        "\n",
        "djia = data.get_data_yahoo('DJIA', '2000-01-01', '2020-01-01')\n",
        "djia.head()"
      ],
      "execution_count": 11,
      "outputs": [
        {
          "output_type": "execute_result",
          "data": {
            "text/html": [
              "<div>\n",
              "<style scoped>\n",
              "    .dataframe tbody tr th:only-of-type {\n",
              "        vertical-align: middle;\n",
              "    }\n",
              "\n",
              "    .dataframe tbody tr th {\n",
              "        vertical-align: top;\n",
              "    }\n",
              "\n",
              "    .dataframe thead th {\n",
              "        text-align: right;\n",
              "    }\n",
              "</style>\n",
              "<table border=\"1\" class=\"dataframe\">\n",
              "  <thead>\n",
              "    <tr style=\"text-align: right;\">\n",
              "      <th></th>\n",
              "      <th>High</th>\n",
              "      <th>Low</th>\n",
              "      <th>Open</th>\n",
              "      <th>Close</th>\n",
              "      <th>Volume</th>\n",
              "      <th>Adj Close</th>\n",
              "    </tr>\n",
              "    <tr>\n",
              "      <th>Date</th>\n",
              "      <th></th>\n",
              "      <th></th>\n",
              "      <th></th>\n",
              "      <th></th>\n",
              "      <th></th>\n",
              "      <th></th>\n",
              "    </tr>\n",
              "  </thead>\n",
              "  <tbody>\n",
              "    <tr>\n",
              "      <th>2000-01-03</th>\n",
              "      <td>11641.070312</td>\n",
              "      <td>11180.980469</td>\n",
              "      <td>11501.849609</td>\n",
              "      <td>11357.509766</td>\n",
              "      <td>931800000</td>\n",
              "      <td>11357.509766</td>\n",
              "    </tr>\n",
              "    <tr>\n",
              "      <th>2000-01-04</th>\n",
              "      <td>11358.440430</td>\n",
              "      <td>10907.030273</td>\n",
              "      <td>11349.750000</td>\n",
              "      <td>10997.929688</td>\n",
              "      <td>1009000000</td>\n",
              "      <td>10997.929688</td>\n",
              "    </tr>\n",
              "    <tr>\n",
              "      <th>2000-01-05</th>\n",
              "      <td>11337.650391</td>\n",
              "      <td>10862.660156</td>\n",
              "      <td>10989.370117</td>\n",
              "      <td>11122.650391</td>\n",
              "      <td>1085500000</td>\n",
              "      <td>11122.650391</td>\n",
              "    </tr>\n",
              "    <tr>\n",
              "      <th>2000-01-06</th>\n",
              "      <td>11447.790039</td>\n",
              "      <td>10963.179688</td>\n",
              "      <td>11113.370117</td>\n",
              "      <td>11253.259766</td>\n",
              "      <td>1092300000</td>\n",
              "      <td>11253.259766</td>\n",
              "    </tr>\n",
              "    <tr>\n",
              "      <th>2000-01-07</th>\n",
              "      <td>11655.650391</td>\n",
              "      <td>11168.259766</td>\n",
              "      <td>11247.059570</td>\n",
              "      <td>11522.559570</td>\n",
              "      <td>1225200000</td>\n",
              "      <td>11522.559570</td>\n",
              "    </tr>\n",
              "  </tbody>\n",
              "</table>\n",
              "</div>"
            ],
            "text/plain": [
              "                    High           Low  ...      Volume     Adj Close\n",
              "Date                                    ...                          \n",
              "2000-01-03  11641.070312  11180.980469  ...   931800000  11357.509766\n",
              "2000-01-04  11358.440430  10907.030273  ...  1009000000  10997.929688\n",
              "2000-01-05  11337.650391  10862.660156  ...  1085500000  11122.650391\n",
              "2000-01-06  11447.790039  10963.179688  ...  1092300000  11253.259766\n",
              "2000-01-07  11655.650391  11168.259766  ...  1225200000  11522.559570\n",
              "\n",
              "[5 rows x 6 columns]"
            ]
          },
          "metadata": {
            "tags": []
          },
          "execution_count": 11
        }
      ]
    },
    {
      "cell_type": "code",
      "metadata": {
        "id": "2mcKLSQaG92c",
        "colab": {
          "base_uri": "https://localhost:8080/",
          "height": 221
        },
        "outputId": "7e9a9f7f-ca20-4de7-cee7-102e4ce68414"
      },
      "source": [
        "# Подгружаем данные DJI\n",
        "pd.core.common.is_list_like = pd.api.types.is_list_like\n",
        "from pandas_datareader import data\n",
        "\n",
        "djia = data.get_data_yahoo('DJIA', '2000-01-01', '2017-12-30')\n",
        "dji = spark.createDataFrame(djia)\n",
        "display(dji.show(5))"
      ],
      "execution_count": 12,
      "outputs": [
        {
          "output_type": "stream",
          "text": [
            "+----------------+----------------+----------------+----------------+----------+----------------+\n",
            "|            High|             Low|            Open|           Close|    Volume|       Adj Close|\n",
            "+----------------+----------------+----------------+----------------+----------+----------------+\n",
            "|   11641.0703125|  11180.98046875| 11501.849609375| 11357.509765625| 931800000| 11357.509765625|\n",
            "|11358.4404296875|10907.0302734375|        11349.75|   10997.9296875|1009000000|   10997.9296875|\n",
            "| 11337.650390625|  10862.66015625|10989.3701171875| 11122.650390625|1085500000| 11122.650390625|\n",
            "|11447.7900390625|   10963.1796875|11113.3701171875| 11253.259765625|1092300000| 11253.259765625|\n",
            "| 11655.650390625| 11168.259765625|11247.0595703125|11522.5595703125|1225200000|11522.5595703125|\n",
            "+----------------+----------------+----------------+----------------+----------+----------------+\n",
            "only showing top 5 rows\n",
            "\n"
          ],
          "name": "stdout"
        },
        {
          "output_type": "display_data",
          "data": {
            "text/plain": [
              "None"
            ]
          },
          "metadata": {
            "tags": []
          }
        }
      ]
    },
    {
      "cell_type": "code",
      "metadata": {
        "id": "lvlCwAMDSuYs"
      },
      "source": [
        "# Define the instruments to download. We would like to see Apple, Microsoft and the S&P500 index.\n",
        "tickers = ['AAPL', 'BA', 'CAT']\n",
        "\n",
        "# We would like all available data from 01/01/2000 until 12/31/2016.\n",
        "start_date = '2010-01-01'\n",
        "end_date = '2016-12-31'\n",
        "\n",
        "# User pandas_reader.data.DataReader to load the desired data. As simple as that.\n",
        "djia_firms = data.DataReader(tickers, 'yahoo', start_date, end_date)\n",
        "dji_firms = spark.createDataFrame(djia_firms)\n",
        "\n",
        "# Источник: https://www.learndatasci.com/tutorials/python-finance-part-yahoo-finance-api-pandas-matplotlib/"
      ],
      "execution_count": 13,
      "outputs": []
    },
    {
      "cell_type": "code",
      "metadata": {
        "id": "DPafhUQPWr3j",
        "colab": {
          "base_uri": "https://localhost:8080/",
          "height": 241
        },
        "outputId": "9f77d398-4765-4379-c025-630dd23d6932"
      },
      "source": [
        "display(dji_firms.show(5))"
      ],
      "execution_count": 14,
      "outputs": [
        {
          "output_type": "stream",
          "text": [
            "+---------------------+-------------------+--------------------+-----------------+------------------+-----------------+------------------+------------------+------------------+------------------+------------------+------------------+-----------------+------------------+------------------+------------------+----------------+-----------------+\n",
            "|('Adj Close', 'AAPL')|('Adj Close', 'BA')|('Adj Close', 'CAT')|('Close', 'AAPL')|   ('Close', 'BA')| ('Close', 'CAT')|  ('High', 'AAPL')|    ('High', 'BA')|   ('High', 'CAT')|   ('Low', 'AAPL')|     ('Low', 'BA')|    ('Low', 'CAT')| ('Open', 'AAPL')|    ('Open', 'BA')|   ('Open', 'CAT')|('Volume', 'AAPL')|('Volume', 'BA')|('Volume', 'CAT')|\n",
            "+---------------------+-------------------+--------------------+-----------------+------------------+-----------------+------------------+------------------+------------------+------------------+------------------+------------------+-----------------+------------------+------------------+------------------+----------------+-----------------+\n",
            "|    6.583585739135742|  43.77754211425781|   42.98075866699219|7.643214225769043| 56.18000030517578|58.54999923706055| 7.660714149475098| 56.38999938964844|59.189998626708984| 7.585000038146973| 54.79999923706055|  57.5099983215332|7.622499942779541|55.720001220703125|57.650001525878906|        4.937296E8|       6186700.0|        7325600.0|\n",
            "|    6.594967842102051|  45.21133041381836|    43.4946403503418|7.656428813934326| 58.02000045776367|            59.25| 7.699643135070801|58.279998779296875|59.439998626708984|7.6160712242126465|              56.0| 58.22999954223633|7.664286136627197|             56.25| 58.54999923706055|        6.019048E8|       8867800.0|        5697200.0|\n",
            "|    6.490065574645996|  46.58279800415039|  43.626766204833984|7.534643173217773|59.779998779296875|59.43000030517578|  7.68678617477417|  59.9900016784668| 59.93000030517578| 7.526785850524902|57.880001068115234| 59.04999923706055|7.656428813934326| 58.22999954223633| 59.18000030517578|          5.5216E8|       8836500.0|        4718800.0|\n",
            "|    6.478067398071289|  48.46855545043945|   43.80293655395508|7.520713806152344| 62.20000076293945|59.66999816894531|7.5714287757873535|62.310001373291016|59.900001525878906| 7.466071128845215| 59.02000045776367|58.650001525878906|           7.5625|  59.5099983215332| 59.29999923706055|        4.771312E8|       1.43791E7|        5432900.0|\n",
            "|   6.5211358070373535| 48.001007080078125|   44.29477310180664|7.570713996887207|61.599998474121094|60.34000015258789|7.5714287757873535|61.779998779296875|60.369998931884766| 7.466429233551025| 60.86000061035156|             59.25|7.510714054107666|61.540000915527344|             59.25|        4.476108E8|       7146600.0|        6651300.0|\n",
            "+---------------------+-------------------+--------------------+-----------------+------------------+-----------------+------------------+------------------+------------------+------------------+------------------+------------------+-----------------+------------------+------------------+------------------+----------------+-----------------+\n",
            "only showing top 5 rows\n",
            "\n"
          ],
          "name": "stdout"
        },
        {
          "output_type": "display_data",
          "data": {
            "text/plain": [
              "None"
            ]
          },
          "metadata": {
            "tags": []
          }
        }
      ]
    },
    {
      "cell_type": "code",
      "metadata": {
        "id": "ro8Qw1bhWzY1"
      },
      "source": [
        "tickers_non_dji = ['GOOG', 'AMZN']\n",
        "\n",
        "start_date = '2010-01-01'\n",
        "end_date = '2016-12-31'\n",
        "\n",
        "# User pandas_reader.data.DataReader to load the desired data. As simple as that.\n",
        "non_djia_firms = data.DataReader(tickers_non_dji, 'yahoo', start_date, end_date)\n",
        "non_dji_firms = spark.createDataFrame(non_djia_firms)\n"
      ],
      "execution_count": 15,
      "outputs": []
    },
    {
      "cell_type": "code",
      "metadata": {
        "colab": {
          "base_uri": "https://localhost:8080/",
          "height": 241
        },
        "id": "MwyAcejFauQ6",
        "outputId": "c4fcd840-839f-4106-c713-7bcf07e1c5fb"
      },
      "source": [
        "display(non_dji_firms.show(5))"
      ],
      "execution_count": 16,
      "outputs": [
        {
          "output_type": "stream",
          "text": [
            "+---------------------+---------------------+------------------+------------------+------------------+------------------+------------------+------------------+-----------------+------------------+------------------+------------------+\n",
            "|('Adj Close', 'GOOG')|('Adj Close', 'AMZN')| ('Close', 'GOOG')| ('Close', 'AMZN')|  ('High', 'GOOG')|  ('High', 'AMZN')|   ('Low', 'GOOG')|   ('Low', 'AMZN')| ('Open', 'GOOG')|  ('Open', 'AMZN')|('Volume', 'GOOG')|('Volume', 'AMZN')|\n",
            "+---------------------+---------------------+------------------+------------------+------------------+------------------+------------------+------------------+-----------------+------------------+------------------+------------------+\n",
            "|   312.20477294921875|   133.89999389648438|312.20477294921875|133.89999389648438| 313.5796203613281|136.61000061035156| 310.9544677734375|133.13999938964844|312.3044128417969|            136.25|         3927065.0|         7599900.0|\n",
            "|    310.8299255371094|   134.69000244140625| 310.8299255371094|134.69000244140625|312.74774169921875|135.47999572753906| 309.6094970703125|131.80999755859375|312.4189758300781|133.42999267578125|         6031925.0|         8851900.0|\n",
            "|    302.9942932128906|               132.25| 302.9942932128906|            132.25| 311.7614440917969|134.72999572753906|    302.0478515625|131.64999389648438|311.7614440917969|134.60000610351562|         7987226.0|         7178800.0|\n",
            "|   295.94073486328125|                130.0|295.94073486328125|             130.0| 303.8610534667969|132.32000732421875|295.21844482421875| 128.8000030517578|303.5621643066406|132.00999450683594|       1.2876685E7|         1.10302E7|\n",
            "|    299.8859558105469|   133.52000427246094| 299.8859558105469|133.52000427246094| 300.4986572265625|133.67999267578125| 293.4550476074219|129.02999877929688|294.8946533203125|130.55999755859375|         9484016.0|         9830500.0|\n",
            "+---------------------+---------------------+------------------+------------------+------------------+------------------+------------------+------------------+-----------------+------------------+------------------+------------------+\n",
            "only showing top 5 rows\n",
            "\n"
          ],
          "name": "stdout"
        },
        {
          "output_type": "display_data",
          "data": {
            "text/plain": [
              "None"
            ]
          },
          "metadata": {
            "tags": []
          }
        }
      ]
    },
    {
      "cell_type": "markdown",
      "metadata": {
        "id": "vEMBZOE2juGs"
      },
      "source": [
        "# Переходим к анализу текста"
      ]
    },
    {
      "cell_type": "code",
      "metadata": {
        "id": "g8uqH3btwNPk"
      },
      "source": [
        "### Tokenizers\n",
        "from pyspark.ml.feature import Tokenizer, RegexTokenizer\n",
        "from pyspark.sql.functions import col, udf\n",
        "from pyspark.sql.types import IntegerType\n",
        "from pyspark.ml.feature import StopWordsRemover\n",
        "## convert to word v review matrix \n",
        "from pyspark.ml.feature import HashingTF, IDF"
      ],
      "execution_count": 17,
      "outputs": []
    },
    {
      "cell_type": "code",
      "metadata": {
        "colab": {
          "base_uri": "https://localhost:8080/",
          "height": 221
        },
        "id": "3X-t4GKYlv82",
        "outputId": "ccb4bccb-7233-4802-de93-33c0b0be0cec"
      },
      "source": [
        "display(news.show(5))"
      ],
      "execution_count": 18,
      "outputs": [
        {
          "output_type": "stream",
          "text": [
            "+----------+--------------------+\n",
            "|      Date|                News|\n",
            "+----------+--------------------+\n",
            "|2016-07-01|A 117-year-old wo...|\n",
            "|2016-07-01|IMF chief backs A...|\n",
            "|2016-07-01|The president of ...|\n",
            "|2016-07-01|British Man Who M...|\n",
            "|2016-07-01|100+ Nobel laurea...|\n",
            "+----------+--------------------+\n",
            "only showing top 5 rows\n",
            "\n"
          ],
          "name": "stdout"
        },
        {
          "output_type": "display_data",
          "data": {
            "text/plain": [
              "None"
            ]
          },
          "metadata": {
            "tags": []
          }
        }
      ]
    },
    {
      "cell_type": "code",
      "metadata": {
        "id": "Buk-OFjU3fS1"
      },
      "source": [
        "countTokens = udf(lambda words: len(words), IntegerType()) # разбили все предложения на слова и посчитали их"
      ],
      "execution_count": 19,
      "outputs": []
    },
    {
      "cell_type": "code",
      "metadata": {
        "colab": {
          "base_uri": "https://localhost:8080/"
        },
        "id": "k8l2Uc-FwWho",
        "outputId": "c7c5fcfd-cffc-4903-8dcf-1bef83a9d80f"
      },
      "source": [
        "# токенизация текста (предложения в объекты)\n",
        "tokenizer = Tokenizer(inputCol=\"News\", outputCol=\"words\")\n",
        "tokenized = tokenizer.transform(news)\n",
        "\n",
        "# посмотрим результат\n",
        "tokenized.select(\"Date\", \"News\", \"words\").withColumn(\"tokens\", countTokens(col(\"words\"))).show(5)"
      ],
      "execution_count": 20,
      "outputs": [
        {
          "output_type": "stream",
          "text": [
            "+----------+--------------------+--------------------+------+\n",
            "|      Date|                News|               words|tokens|\n",
            "+----------+--------------------+--------------------+------+\n",
            "|2016-07-01|A 117-year-old wo...|[a, 117-year-old,...|    32|\n",
            "|2016-07-01|IMF chief backs A...|[imf, chief, back...|     8|\n",
            "|2016-07-01|The president of ...|[the, president, ...|    12|\n",
            "|2016-07-01|British Man Who M...|[british, man, wh...|    32|\n",
            "|2016-07-01|100+ Nobel laurea...|[100+, nobel, lau...|     9|\n",
            "+----------+--------------------+--------------------+------+\n",
            "only showing top 5 rows\n",
            "\n"
          ],
          "name": "stdout"
        }
      ]
    },
    {
      "cell_type": "code",
      "metadata": {
        "colab": {
          "base_uri": "https://localhost:8080/"
        },
        "id": "0-n3IcL6wWYg",
        "outputId": "7f7b0e5b-608c-4fff-98e7-af7b294734a5"
      },
      "source": [
        "# удалить стоп-слова\n",
        "remover = StopWordsRemover(inputCol=\"words\", outputCol=\"filtered\")\n",
        "news2 = remover.transform(tokenized)\\\n",
        "       .select('Date','News','words','filtered')\\\n",
        "       .withColumn(\"tokens\", countTokens(col(\"filtered\")))\n",
        "news2.show(5)"
      ],
      "execution_count": 21,
      "outputs": [
        {
          "output_type": "stream",
          "text": [
            "+----------+--------------------+--------------------+--------------------+------+\n",
            "|      Date|                News|               words|            filtered|tokens|\n",
            "+----------+--------------------+--------------------+--------------------+------+\n",
            "|2016-07-01|A 117-year-old wo...|[a, 117-year-old,...|[117-year-old, wo...|    19|\n",
            "|2016-07-01|IMF chief backs A...|[imf, chief, back...|[imf, chief, back...|     7|\n",
            "|2016-07-01|The president of ...|[the, president, ...|[president, franc...|     7|\n",
            "|2016-07-01|British Man Who M...|[british, man, wh...|[british, man, mu...|    21|\n",
            "|2016-07-01|100+ Nobel laurea...|[100+, nobel, lau...|[100+, nobel, lau...|     8|\n",
            "+----------+--------------------+--------------------+--------------------+------+\n",
            "only showing top 5 rows\n",
            "\n"
          ],
          "name": "stdout"
        }
      ]
    },
    {
      "cell_type": "markdown",
      "metadata": {
        "id": "VgQ1cIA0_2rc"
      },
      "source": [
        "Для семантического анализа используем Vader\n",
        "\n",
        "---\n",
        "\n"
      ]
    },
    {
      "cell_type": "code",
      "metadata": {
        "colab": {
          "base_uri": "https://localhost:8080/"
        },
        "id": "rDHGhX8a3uuY",
        "outputId": "4d987054-15bb-4d86-a225-dc2b73317871"
      },
      "source": [
        "import nltk\n",
        "nltk.download('vader_lexicon')\n",
        "from nltk.sentiment.vader import SentimentIntensityAnalyzer"
      ],
      "execution_count": 22,
      "outputs": [
        {
          "output_type": "stream",
          "text": [
            "[nltk_data] Downloading package vader_lexicon to /root/nltk_data...\n"
          ],
          "name": "stdout"
        },
        {
          "output_type": "stream",
          "text": [
            "/usr/local/lib/python3.7/dist-packages/nltk/twitter/__init__.py:20: UserWarning: The twython library has not been installed. Some functionality from the twitter package will not be available.\n",
            "  warnings.warn(\"The twython library has not been installed. \"\n"
          ],
          "name": "stderr"
        }
      ]
    },
    {
      "cell_type": "code",
      "metadata": {
        "id": "sk2aKz9s3ufL"
      },
      "source": [
        "vader = SentimentIntensityAnalyzer()"
      ],
      "execution_count": 23,
      "outputs": []
    },
    {
      "cell_type": "code",
      "metadata": {
        "id": "MKTuM72_75cR"
      },
      "source": [
        "def getSentimentScore(text):\n",
        "    vs = vader.polarity_scores(text)\n",
        "    return float(vs['compound'])"
      ],
      "execution_count": 24,
      "outputs": []
    },
    {
      "cell_type": "code",
      "metadata": {
        "colab": {
          "base_uri": "https://localhost:8080/",
          "height": 731
        },
        "id": "xtlZW3iNxXMX",
        "outputId": "f959777d-0057-44d1-8863-4ef3ad8b6571"
      },
      "source": [
        "udfSentimentScore = udf(getSentimentScore)\n",
        "sentiment = news2.withColumn('sentimentScore', udfSentimentScore('News'))\n",
        "display(sentiment.show(35))"
      ],
      "execution_count": 25,
      "outputs": [
        {
          "output_type": "stream",
          "text": [
            "+----------+--------------------+--------------------+--------------------+------+--------------+\n",
            "|      Date|                News|               words|            filtered|tokens|sentimentScore|\n",
            "+----------+--------------------+--------------------+--------------------+------+--------------+\n",
            "|2016-07-01|A 117-year-old wo...|[a, 117-year-old,...|[117-year-old, wo...|    19|       -0.5574|\n",
            "|2016-07-01|IMF chief backs A...|[imf, chief, back...|[imf, chief, back...|     7|       -0.0516|\n",
            "|2016-07-01|The president of ...|[the, president, ...|[president, franc...|     7|        0.5719|\n",
            "|2016-07-01|British Man Who M...|[british, man, wh...|[british, man, mu...|    21|       -0.8658|\n",
            "|2016-07-01|100+ Nobel laurea...|[100+, nobel, lau...|[100+, nobel, lau...|     8|        -0.296|\n",
            "|2016-07-01|Brazil: Huge spik...|[brazil:, huge, s...|[brazil:, huge, s...|     9|       -0.4404|\n",
            "|2016-07-01|Austria's highest...|[austria's, highe...|[austria's, highe...|    10|       -0.3182|\n",
            "|2016-07-01|Facebook wins pri...|[facebook, wins, ...|[facebook, wins, ...|    12|        0.5612|\n",
            "|2016-07-01|Switzerland denie...|[switzerland, den...|[switzerland, den...|    21|       -0.7351|\n",
            "|2016-07-01|China kills milli...|[china, kills, mi...|[china, kills, mi...|     8|       -0.2732|\n",
            "|2016-07-01|France Cracks Dow...|[france, cracks, ...|[france, cracks, ...|    27|       -0.8402|\n",
            "|2016-07-01|Abbas PLO Faction...|[abbas, plo, fact...|[abbas, plo, fact...|     9|       -0.6486|\n",
            "|2016-07-01|Taiwanese warship...|[taiwanese, warsh...|[taiwanese, warsh...|     7|       -0.4767|\n",
            "|2016-07-01|Iran celebrates A...|[iran, celebrates...|[iran, celebrates...|    10|        0.1779|\n",
            "|2016-07-01|U.N. panel moves ...|[u.n., panel, mov...|[u.n., panel, mov...|    13|       -0.1027|\n",
            "|2016-07-01|The United States...|[the, united, sta...|[united, states, ...|    12|       -0.5859|\n",
            "|2016-07-01|S&amp;P revises E...|[s&amp;p, revises...|[s&amp;p, revises...|     8|        0.3818|\n",
            "|2016-07-01|India gets $1 bil...|[india, gets, $1,...|[india, gets, $1,...|     9|           0.0|\n",
            "|2016-07-01|U.S. sailors deta...|[u.s., sailors, d...|[u.s., sailors, d...|     8|       -0.4019|\n",
            "|2016-07-01|Mass fish kill in...|[mass, fish, kill...|[mass, fish, kill...|    10|       -0.3182|\n",
            "|2016-07-01|Philippines presi...|[philippines, pre...|[philippines, pre...|    23|       -0.9509|\n",
            "|2016-07-01|Spain arrests thr...|[spain, arrests, ...|[spain, arrests, ...|     7|       -0.3818|\n",
            "|2016-07-01|Venezuela, where ...|[venezuela,, wher...|[venezuela,, ange...|    27|       -0.9618|\n",
            "|2016-07-01|A Hindu temple wo...|[a, hindu, temple...|[hindu, temple, w...|    31|       -0.9432|\n",
            "|2016-07-01|Ozone layer hole ...|[ozone, layer, ho...|[ozone, layer, ho...|    32|           0.0|\n",
            "|2016-06-30|Jamaica proposes ...|[jamaica, propose...|[jamaica, propose...|    19|           0.0|\n",
            "|2016-06-30|Stephen Hawking s...|[stephen, hawking...|[stephen, hawking...|    19|       -0.4141|\n",
            "|2016-06-30|Boris Johnson say...|[boris, johnson, ...|[boris, johnson, ...|     7|        0.4019|\n",
            "|2016-06-30|Six gay men in Iv...|[six, gay, men, i...|[six, gay, men, i...|    19|       -0.8934|\n",
            "|2016-06-30|Switzerland denie...|[switzerland, den...|[switzerland, den...|    10|       -0.6124|\n",
            "|2016-06-30|Palestinian terro...|[palestinian, ter...|[palestinian, ter...|     8|         -0.91|\n",
            "|2016-06-30|Puerto Rico will ...|[puerto, rico, wi...|[puerto, rico, de...|     7|       -0.3612|\n",
            "|2016-06-30|Republic of Irela...|[republic, of, ir...|[republic, irelan...|     8|        0.7003|\n",
            "|2016-06-30|Afghan suicide bo...|[afghan, suicide,...|[afghan, suicide,...|     8|       -0.8402|\n",
            "|2016-06-30|US airstrikes kil...|[us, airstrikes, ...|[us, airstrikes, ...|    12|       -0.7096|\n",
            "+----------+--------------------+--------------------+--------------------+------+--------------+\n",
            "only showing top 35 rows\n",
            "\n"
          ],
          "name": "stdout"
        },
        {
          "output_type": "display_data",
          "data": {
            "text/plain": [
              "None"
            ]
          },
          "metadata": {
            "tags": []
          }
        }
      ]
    },
    {
      "cell_type": "code",
      "metadata": {
        "id": "2GrbTOgEGWLs"
      },
      "source": [
        "from pyspark.sql.functions import *"
      ],
      "execution_count": 26,
      "outputs": []
    },
    {
      "cell_type": "code",
      "metadata": {
        "colab": {
          "base_uri": "https://localhost:8080/"
        },
        "id": "iWZiB0EJVCNT",
        "outputId": "fb2feca1-ff5e-491e-c98e-211cc991c11c"
      },
      "source": [
        "sentiment_avg = sentiment.groupBy('Date').agg(avg(col('sentimentScore')).alias('avg_sentiment'))\n",
        "sentiment_avg.show(5)"
      ],
      "execution_count": 29,
      "outputs": [
        {
          "output_type": "stream",
          "text": [
            "+----------+--------------------+\n",
            "|      Date|       avg_sentiment|\n",
            "+----------+--------------------+\n",
            "|2015-05-01|           -0.281584|\n",
            "|2014-12-13|-0.27572800000000003|\n",
            "|2014-05-27|-0.14229599999999998|\n",
            "|2014-02-22|-0.14512799999999998|\n",
            "|2014-02-16|-0.19025999999999998|\n",
            "+----------+--------------------+\n",
            "only showing top 5 rows\n",
            "\n"
          ],
          "name": "stdout"
        }
      ]
    },
    {
      "cell_type": "code",
      "metadata": {
        "colab": {
          "base_uri": "https://localhost:8080/"
        },
        "id": "0gU4tk3ZzPrd",
        "outputId": "16437cf3-14e5-4002-92eb-7e7114051c3e"
      },
      "source": [
        "sentiment_avg.orderBy('Date').show(truncate=False)"
      ],
      "execution_count": 32,
      "outputs": [
        {
          "output_type": "stream",
          "text": [
            "+----------+--------------------+\n",
            "|Date      |avg_sentiment       |\n",
            "+----------+--------------------+\n",
            "|2008-06-08|-0.36242399999999997|\n",
            "|2008-06-09|-0.24253600000000006|\n",
            "|2008-06-10|-0.30474            |\n",
            "|2008-06-11|-0.143736           |\n",
            "|2008-06-12|-0.12856399999999998|\n",
            "|2008-06-13|-0.252312           |\n",
            "|2008-06-14|-0.141268           |\n",
            "|2008-06-15|-0.16602            |\n",
            "|2008-06-16|-0.23004800000000003|\n",
            "|2008-06-17|-0.208244           |\n",
            "|2008-06-18|-0.2497040000000001 |\n",
            "|2008-06-19|-0.095984           |\n",
            "|2008-06-20|-0.38749599999999984|\n",
            "|2008-06-21|-0.19152800000000003|\n",
            "|2008-06-22|-0.22824000000000003|\n",
            "|2008-06-23|-0.19309199999999993|\n",
            "|2008-06-24|-0.17726799999999998|\n",
            "|2008-06-25|-0.20394800000000005|\n",
            "|2008-06-26|-0.315736           |\n",
            "|2008-06-27|-0.18349999999999997|\n",
            "+----------+--------------------+\n",
            "only showing top 20 rows\n",
            "\n"
          ],
          "name": "stdout"
        }
      ]
    },
    {
      "cell_type": "code",
      "metadata": {
        "colab": {
          "base_uri": "https://localhost:8080/",
          "height": 34
        },
        "id": "kTXN-QLlWt1d",
        "outputId": "cd9c64b1-3768-4598-9c00-09fe4d8ad1a8"
      },
      "source": [
        "display(sentiment_avg)"
      ],
      "execution_count": 33,
      "outputs": [
        {
          "output_type": "display_data",
          "data": {
            "text/plain": [
              "DataFrame[Date: string, avg_sentiment: double]"
            ]
          },
          "metadata": {
            "tags": []
          }
        }
      ]
    },
    {
      "cell_type": "code",
      "metadata": {
        "id": "wT9ds5ztzpUd"
      },
      "source": [
        ""
      ],
      "execution_count": null,
      "outputs": []
    },
    {
      "cell_type": "code",
      "metadata": {
        "id": "mN3VEZDgYIsP"
      },
      "source": [
        "import matplotlib.pyplot as plt\n",
        "import seaborn as sns"
      ],
      "execution_count": 114,
      "outputs": []
    },
    {
      "cell_type": "code",
      "metadata": {
        "colab": {
          "base_uri": "https://localhost:8080/",
          "height": 306
        },
        "id": "4ZcbhtLHYlwl",
        "outputId": "96bae587-9ff7-4636-99dc-9b4f469acd07"
      },
      "source": [
        "ax = sns.boxplot(x=\"Date\", y=\"avg_sentiment\",data=sentiment_avg)"
      ],
      "execution_count": 116,
      "outputs": [
        {
          "output_type": "error",
          "ename": "AttributeError",
          "evalue": "ignored",
          "traceback": [
            "\u001b[0;31m---------------------------------------------------------------------------\u001b[0m",
            "\u001b[0;31mAttributeError\u001b[0m                            Traceback (most recent call last)",
            "\u001b[0;32m<ipython-input-116-13e9049cbdee>\u001b[0m in \u001b[0;36m<module>\u001b[0;34m()\u001b[0m\n\u001b[0;32m----> 1\u001b[0;31m \u001b[0max\u001b[0m \u001b[0;34m=\u001b[0m \u001b[0msns\u001b[0m\u001b[0;34m.\u001b[0m\u001b[0mboxplot\u001b[0m\u001b[0;34m(\u001b[0m\u001b[0mx\u001b[0m\u001b[0;34m=\u001b[0m\u001b[0;34m\"Date\"\u001b[0m\u001b[0;34m,\u001b[0m \u001b[0my\u001b[0m\u001b[0;34m=\u001b[0m\u001b[0;34m\"avg_sentiment\"\u001b[0m\u001b[0;34m,\u001b[0m\u001b[0mdata\u001b[0m\u001b[0;34m=\u001b[0m\u001b[0msentiment_avg\u001b[0m\u001b[0;34m)\u001b[0m\u001b[0;34m\u001b[0m\u001b[0;34m\u001b[0m\u001b[0m\n\u001b[0m",
            "\u001b[0;32m/usr/local/lib/python3.7/dist-packages/seaborn/_decorators.py\u001b[0m in \u001b[0;36minner_f\u001b[0;34m(*args, **kwargs)\u001b[0m\n\u001b[1;32m     44\u001b[0m             )\n\u001b[1;32m     45\u001b[0m         \u001b[0mkwargs\u001b[0m\u001b[0;34m.\u001b[0m\u001b[0mupdate\u001b[0m\u001b[0;34m(\u001b[0m\u001b[0;34m{\u001b[0m\u001b[0mk\u001b[0m\u001b[0;34m:\u001b[0m \u001b[0marg\u001b[0m \u001b[0;32mfor\u001b[0m \u001b[0mk\u001b[0m\u001b[0;34m,\u001b[0m \u001b[0marg\u001b[0m \u001b[0;32min\u001b[0m \u001b[0mzip\u001b[0m\u001b[0;34m(\u001b[0m\u001b[0msig\u001b[0m\u001b[0;34m.\u001b[0m\u001b[0mparameters\u001b[0m\u001b[0;34m,\u001b[0m \u001b[0margs\u001b[0m\u001b[0;34m)\u001b[0m\u001b[0;34m}\u001b[0m\u001b[0;34m)\u001b[0m\u001b[0;34m\u001b[0m\u001b[0;34m\u001b[0m\u001b[0m\n\u001b[0;32m---> 46\u001b[0;31m         \u001b[0;32mreturn\u001b[0m \u001b[0mf\u001b[0m\u001b[0;34m(\u001b[0m\u001b[0;34m**\u001b[0m\u001b[0mkwargs\u001b[0m\u001b[0;34m)\u001b[0m\u001b[0;34m\u001b[0m\u001b[0;34m\u001b[0m\u001b[0m\n\u001b[0m\u001b[1;32m     47\u001b[0m     \u001b[0;32mreturn\u001b[0m \u001b[0minner_f\u001b[0m\u001b[0;34m\u001b[0m\u001b[0;34m\u001b[0m\u001b[0m\n\u001b[1;32m     48\u001b[0m \u001b[0;34m\u001b[0m\u001b[0m\n",
            "\u001b[0;32m/usr/local/lib/python3.7/dist-packages/seaborn/categorical.py\u001b[0m in \u001b[0;36mboxplot\u001b[0;34m(x, y, hue, data, order, hue_order, orient, color, palette, saturation, width, dodge, fliersize, linewidth, whis, ax, **kwargs)\u001b[0m\n\u001b[1;32m   2240\u001b[0m     plotter = _BoxPlotter(x, y, hue, data, order, hue_order,\n\u001b[1;32m   2241\u001b[0m                           \u001b[0morient\u001b[0m\u001b[0;34m,\u001b[0m \u001b[0mcolor\u001b[0m\u001b[0;34m,\u001b[0m \u001b[0mpalette\u001b[0m\u001b[0;34m,\u001b[0m \u001b[0msaturation\u001b[0m\u001b[0;34m,\u001b[0m\u001b[0;34m\u001b[0m\u001b[0;34m\u001b[0m\u001b[0m\n\u001b[0;32m-> 2242\u001b[0;31m                           width, dodge, fliersize, linewidth)\n\u001b[0m\u001b[1;32m   2243\u001b[0m \u001b[0;34m\u001b[0m\u001b[0m\n\u001b[1;32m   2244\u001b[0m     \u001b[0;32mif\u001b[0m \u001b[0max\u001b[0m \u001b[0;32mis\u001b[0m \u001b[0;32mNone\u001b[0m\u001b[0;34m:\u001b[0m\u001b[0;34m\u001b[0m\u001b[0;34m\u001b[0m\u001b[0m\n",
            "\u001b[0;32m/usr/local/lib/python3.7/dist-packages/seaborn/categorical.py\u001b[0m in \u001b[0;36m__init__\u001b[0;34m(self, x, y, hue, data, order, hue_order, orient, color, palette, saturation, width, dodge, fliersize, linewidth)\u001b[0m\n\u001b[1;32m    404\u001b[0m                  width, dodge, fliersize, linewidth):\n\u001b[1;32m    405\u001b[0m \u001b[0;34m\u001b[0m\u001b[0m\n\u001b[0;32m--> 406\u001b[0;31m         \u001b[0mself\u001b[0m\u001b[0;34m.\u001b[0m\u001b[0mestablish_variables\u001b[0m\u001b[0;34m(\u001b[0m\u001b[0mx\u001b[0m\u001b[0;34m,\u001b[0m \u001b[0my\u001b[0m\u001b[0;34m,\u001b[0m \u001b[0mhue\u001b[0m\u001b[0;34m,\u001b[0m \u001b[0mdata\u001b[0m\u001b[0;34m,\u001b[0m \u001b[0morient\u001b[0m\u001b[0;34m,\u001b[0m \u001b[0morder\u001b[0m\u001b[0;34m,\u001b[0m \u001b[0mhue_order\u001b[0m\u001b[0;34m)\u001b[0m\u001b[0;34m\u001b[0m\u001b[0;34m\u001b[0m\u001b[0m\n\u001b[0m\u001b[1;32m    407\u001b[0m         \u001b[0mself\u001b[0m\u001b[0;34m.\u001b[0m\u001b[0mestablish_colors\u001b[0m\u001b[0;34m(\u001b[0m\u001b[0mcolor\u001b[0m\u001b[0;34m,\u001b[0m \u001b[0mpalette\u001b[0m\u001b[0;34m,\u001b[0m \u001b[0msaturation\u001b[0m\u001b[0;34m)\u001b[0m\u001b[0;34m\u001b[0m\u001b[0;34m\u001b[0m\u001b[0m\n\u001b[1;32m    408\u001b[0m \u001b[0;34m\u001b[0m\u001b[0m\n",
            "\u001b[0;32m/usr/local/lib/python3.7/dist-packages/seaborn/categorical.py\u001b[0m in \u001b[0;36mestablish_variables\u001b[0;34m(self, x, y, hue, data, orient, order, hue_order, units)\u001b[0m\n\u001b[1;32m    142\u001b[0m             \u001b[0;31m# See if we need to get variables from `data`\u001b[0m\u001b[0;34m\u001b[0m\u001b[0;34m\u001b[0m\u001b[0;34m\u001b[0m\u001b[0m\n\u001b[1;32m    143\u001b[0m             \u001b[0;32mif\u001b[0m \u001b[0mdata\u001b[0m \u001b[0;32mis\u001b[0m \u001b[0;32mnot\u001b[0m \u001b[0;32mNone\u001b[0m\u001b[0;34m:\u001b[0m\u001b[0;34m\u001b[0m\u001b[0;34m\u001b[0m\u001b[0m\n\u001b[0;32m--> 144\u001b[0;31m                 \u001b[0mx\u001b[0m \u001b[0;34m=\u001b[0m \u001b[0mdata\u001b[0m\u001b[0;34m.\u001b[0m\u001b[0mget\u001b[0m\u001b[0;34m(\u001b[0m\u001b[0mx\u001b[0m\u001b[0;34m,\u001b[0m \u001b[0mx\u001b[0m\u001b[0;34m)\u001b[0m\u001b[0;34m\u001b[0m\u001b[0;34m\u001b[0m\u001b[0m\n\u001b[0m\u001b[1;32m    145\u001b[0m                 \u001b[0my\u001b[0m \u001b[0;34m=\u001b[0m \u001b[0mdata\u001b[0m\u001b[0;34m.\u001b[0m\u001b[0mget\u001b[0m\u001b[0;34m(\u001b[0m\u001b[0my\u001b[0m\u001b[0;34m,\u001b[0m \u001b[0my\u001b[0m\u001b[0;34m)\u001b[0m\u001b[0;34m\u001b[0m\u001b[0;34m\u001b[0m\u001b[0m\n\u001b[1;32m    146\u001b[0m                 \u001b[0mhue\u001b[0m \u001b[0;34m=\u001b[0m \u001b[0mdata\u001b[0m\u001b[0;34m.\u001b[0m\u001b[0mget\u001b[0m\u001b[0;34m(\u001b[0m\u001b[0mhue\u001b[0m\u001b[0;34m,\u001b[0m \u001b[0mhue\u001b[0m\u001b[0;34m)\u001b[0m\u001b[0;34m\u001b[0m\u001b[0;34m\u001b[0m\u001b[0m\n",
            "\u001b[0;32m/content/spark-3.0.2-bin-hadoop3.2/python/pyspark/sql/dataframe.py\u001b[0m in \u001b[0;36m__getattr__\u001b[0;34m(self, name)\u001b[0m\n\u001b[1;32m   1399\u001b[0m         \u001b[0;32mif\u001b[0m \u001b[0mname\u001b[0m \u001b[0;32mnot\u001b[0m \u001b[0;32min\u001b[0m \u001b[0mself\u001b[0m\u001b[0;34m.\u001b[0m\u001b[0mcolumns\u001b[0m\u001b[0;34m:\u001b[0m\u001b[0;34m\u001b[0m\u001b[0;34m\u001b[0m\u001b[0m\n\u001b[1;32m   1400\u001b[0m             raise AttributeError(\n\u001b[0;32m-> 1401\u001b[0;31m                 \"'%s' object has no attribute '%s'\" % (self.__class__.__name__, name))\n\u001b[0m\u001b[1;32m   1402\u001b[0m         \u001b[0mjc\u001b[0m \u001b[0;34m=\u001b[0m \u001b[0mself\u001b[0m\u001b[0;34m.\u001b[0m\u001b[0m_jdf\u001b[0m\u001b[0;34m.\u001b[0m\u001b[0mapply\u001b[0m\u001b[0;34m(\u001b[0m\u001b[0mname\u001b[0m\u001b[0;34m)\u001b[0m\u001b[0;34m\u001b[0m\u001b[0;34m\u001b[0m\u001b[0m\n\u001b[1;32m   1403\u001b[0m         \u001b[0;32mreturn\u001b[0m \u001b[0mColumn\u001b[0m\u001b[0;34m(\u001b[0m\u001b[0mjc\u001b[0m\u001b[0;34m)\u001b[0m\u001b[0;34m\u001b[0m\u001b[0;34m\u001b[0m\u001b[0m\n",
            "\u001b[0;31mAttributeError\u001b[0m: 'DataFrame' object has no attribute 'get'"
          ]
        }
      ]
    },
    {
      "cell_type": "code",
      "metadata": {
        "id": "ij1yGIK7Yltv"
      },
      "source": [
        ""
      ],
      "execution_count": null,
      "outputs": []
    },
    {
      "cell_type": "code",
      "metadata": {
        "id": "KHfieol6YlqD"
      },
      "source": [
        ""
      ],
      "execution_count": null,
      "outputs": []
    },
    {
      "cell_type": "code",
      "metadata": {
        "id": "TJJQGF02Ylno"
      },
      "source": [
        ""
      ],
      "execution_count": null,
      "outputs": []
    },
    {
      "cell_type": "code",
      "metadata": {
        "colab": {
          "base_uri": "https://localhost:8080/",
          "height": 163
        },
        "id": "1S5S3V1TXrdY",
        "outputId": "af31b30e-5ee4-4a28-c2ed-3298f1631a5c"
      },
      "source": [
        "py.iplot(sentiment_avg, filename=\"spark/over_time\")"
      ],
      "execution_count": 112,
      "outputs": [
        {
          "output_type": "error",
          "ename": "NameError",
          "evalue": "ignored",
          "traceback": [
            "\u001b[0;31m---------------------------------------------------------------------------\u001b[0m",
            "\u001b[0;31mNameError\u001b[0m                                 Traceback (most recent call last)",
            "\u001b[0;32m<ipython-input-112-ff9f18e145ac>\u001b[0m in \u001b[0;36m<module>\u001b[0;34m()\u001b[0m\n\u001b[0;32m----> 1\u001b[0;31m \u001b[0mpy\u001b[0m\u001b[0;34m.\u001b[0m\u001b[0miplot\u001b[0m\u001b[0;34m(\u001b[0m\u001b[0msentiment_avg\u001b[0m\u001b[0;34m,\u001b[0m \u001b[0mfilename\u001b[0m\u001b[0;34m=\u001b[0m\u001b[0;34m\"spark/over_time\"\u001b[0m\u001b[0;34m)\u001b[0m\u001b[0;34m\u001b[0m\u001b[0;34m\u001b[0m\u001b[0m\n\u001b[0m",
            "\u001b[0;31mNameError\u001b[0m: name 'py' is not defined"
          ]
        }
      ]
    },
    {
      "cell_type": "code",
      "metadata": {
        "colab": {
          "base_uri": "https://localhost:8080/"
        },
        "id": "VzrFflL8VT4T",
        "outputId": "0b8053dd-786f-478b-ac3a-569ebe63d8fd"
      },
      "source": [
        "sentiment_vis = sentiment.join(sentiment_avg,'Date')\n",
        "sentiment_vis.select('Date', 'tokens','Avg_Sentiment')\n",
        "sentiment_vis.show(3)"
      ],
      "execution_count": 109,
      "outputs": [
        {
          "output_type": "stream",
          "text": [
            "+----------+--------------------+--------------------+--------------------+------+--------------+--------------------+\n",
            "|      Date|                News|               words|            filtered|tokens|sentimentScore|       avg_sentiment|\n",
            "+----------+--------------------+--------------------+--------------------+------+--------------+--------------------+\n",
            "|2008-10-26|b'It begins: Aust...|[b'it, begins:, a...|[b'it, begins:, a...|    11|       -0.4404|-0.22622199999999926|\n",
            "|2008-10-26|b'Sharia rulings ...|[b'sharia, ruling...|[b'sharia, ruling...|    15|        0.1027|-0.22622199999999926|\n",
            "|2008-10-26|b\"Japan's fastest...|[b\"japan's, faste...|[b\"japan's, faste...|     5|       -0.4767|-0.22622199999999926|\n",
            "+----------+--------------------+--------------------+--------------------+------+--------------+--------------------+\n",
            "only showing top 3 rows\n",
            "\n"
          ],
          "name": "stdout"
        }
      ]
    },
    {
      "cell_type": "code",
      "metadata": {
        "colab": {
          "base_uri": "https://localhost:8080/"
        },
        "id": "PIp1faLRRmeU",
        "outputId": "a4e688e9-3230-4832-fbe4-f807920aab35"
      },
      "source": [
        "period = sentiment.select(col(\"Date\"),to_date(col(\"Date\"),\"yyyy-mm-dd\").alias(\"period\"))\n",
        "period.show(3)"
      ],
      "execution_count": 99,
      "outputs": [
        {
          "output_type": "stream",
          "text": [
            "+----------+----------+\n",
            "|      Date|    period|\n",
            "+----------+----------+\n",
            "|2016-07-01|2016-01-01|\n",
            "|2016-07-01|2016-01-01|\n",
            "|2016-07-01|2016-01-01|\n",
            "+----------+----------+\n",
            "only showing top 3 rows\n",
            "\n"
          ],
          "name": "stdout"
        }
      ]
    },
    {
      "cell_type": "code",
      "metadata": {
        "colab": {
          "base_uri": "https://localhost:8080/"
        },
        "id": "o4YfrkUhRT07",
        "outputId": "0ca846c6-5e5a-406f-a168-36cc33bcc776"
      },
      "source": [
        "sentiment3 = sentiment2.groupBy('Date').agg(avg(col('sentimentScore')).alias('avg_sentiment'))\n",
        "sentiment3.show(5)"
      ],
      "execution_count": 104,
      "outputs": [
        {
          "output_type": "stream",
          "text": [
            "+----------+--------------------+\n",
            "|    period|       Avg_Sentiment|\n",
            "+----------+--------------------+\n",
            "|2013-01-22|-0.26592599999999966|\n",
            "|2011-01-29|-0.18671163636363655|\n",
            "|2011-01-30|-0.23438909090909127|\n",
            "|2011-01-23|-0.24968466666666667|\n",
            "|2008-01-20| -0.2065274285714288|\n",
            "+----------+--------------------+\n",
            "only showing top 5 rows\n",
            "\n"
          ],
          "name": "stdout"
        }
      ]
    },
    {
      "cell_type": "code",
      "metadata": {
        "colab": {
          "base_uri": "https://localhost:8080/"
        },
        "id": "iQRGITC2TTyZ",
        "outputId": "d8d271b7-640c-407a-cc09-fa30c8dfecd5"
      },
      "source": [
        "sentiment_vis = sentiment2.join(sentiment3,'period')\n",
        "sentiment_vis.select('period', 'tokens','Avg_Sentiment')\n",
        "sentiment_vis.show(3)"
      ],
      "execution_count": 107,
      "outputs": [
        {
          "output_type": "stream",
          "text": [
            "+----------+----------+--------------------+--------------------+--------------------+------+--------------+--------------------+\n",
            "|    period|      Date|                News|               words|            filtered|tokens|sentimentScore|       Avg_Sentiment|\n",
            "+----------+----------+--------------------+--------------------+--------------------+------+--------------+--------------------+\n",
            "|2013-01-22|2013-03-22|Twelve North Kore...|[twelve, north, k...|[twelve, north, k...|    12|         -0.34|-0.26592599999999966|\n",
            "|2013-01-22|2013-03-22|Twelve North Kore...|[twelve, north, k...|[twelve, north, k...|    12|         -0.34|-0.26592599999999966|\n",
            "|2013-01-22|2013-03-22|Twelve North Kore...|[twelve, north, k...|[twelve, north, k...|    12|         -0.34|-0.26592599999999966|\n",
            "+----------+----------+--------------------+--------------------+--------------------+------+--------------+--------------------+\n",
            "only showing top 3 rows\n",
            "\n"
          ],
          "name": "stdout"
        }
      ]
    },
    {
      "cell_type": "code",
      "metadata": {
        "colab": {
          "base_uri": "https://localhost:8080/"
        },
        "id": "PegmYR-_K4A6",
        "outputId": "8f6ce3d3-17f7-4e95-aa3f-8670340c6379"
      },
      "source": [
        "#sentiment.withColumn('date', col('date')).groupBy(\"date\").agg(avg(\"sentimentScore\")).show(20)"
      ],
      "execution_count": 82,
      "outputs": [
        {
          "output_type": "stream",
          "text": [
            "+----------+--------------------+\n",
            "|      date| avg(sentimentScore)|\n",
            "+----------+--------------------+\n",
            "|2015-05-01|           -0.281584|\n",
            "|2014-12-13|-0.27572800000000003|\n",
            "|2014-05-27|-0.14229599999999998|\n",
            "|2014-02-22|-0.14512799999999998|\n",
            "|2014-02-16|-0.19025999999999998|\n",
            "|2013-03-14| 0.04971999999999998|\n",
            "|2011-01-29|-0.10014799999999997|\n",
            "|2010-09-24|           -0.357788|\n",
            "|2010-02-12|-0.25953200000000004|\n",
            "|2009-12-04|           -0.250304|\n",
            "|2009-06-23|-0.30028000000000005|\n",
            "|2009-01-04|           -0.251396|\n",
            "|2008-12-03|-0.16224800000000003|\n",
            "|2008-11-19| 0.06001999999999999|\n",
            "|2008-10-26|           -0.226222|\n",
            "|2016-04-22|-0.12435999999999998|\n",
            "|2015-02-27|-0.11101600000000002|\n",
            "|2015-02-09|-0.21621600000000005|\n",
            "|2014-12-11|-0.12794800000000003|\n",
            "|2014-07-14|-0.17927200000000001|\n",
            "+----------+--------------------+\n",
            "only showing top 20 rows\n",
            "\n"
          ],
          "name": "stdout"
        }
      ]
    },
    {
      "cell_type": "code",
      "metadata": {
        "id": "3-7jc--6NhMV"
      },
      "source": [
        "from pyspark.sql.functions import *"
      ],
      "execution_count": 73,
      "outputs": []
    },
    {
      "cell_type": "code",
      "metadata": {
        "colab": {
          "base_uri": "https://localhost:8080/"
        },
        "id": "xtqODli3NF3w",
        "outputId": "811c4066-99f9-4112-b048-7551e5bb3642"
      },
      "source": [
        "sentiment.select(\"Date\").dtypes"
      ],
      "execution_count": 74,
      "outputs": [
        {
          "output_type": "execute_result",
          "data": {
            "text/plain": [
              "[('Date', 'string')]"
            ]
          },
          "metadata": {
            "tags": []
          },
          "execution_count": 74
        }
      ]
    },
    {
      "cell_type": "code",
      "metadata": {
        "colab": {
          "base_uri": "https://localhost:8080/"
        },
        "id": "xwrnmnV8NWoB",
        "outputId": "ad86c2e7-ca7f-41c3-9c6e-09b61bc488cd"
      },
      "source": [
        "sentiment2 = sentiment.select(col(\"Date\"),to_date(col(\"Date\"),\"yyyy-mm-dd\").alias(\"period\"))\n",
        "sentiment2.show(4)"
      ],
      "execution_count": 90,
      "outputs": [
        {
          "output_type": "stream",
          "text": [
            "+----------+----------+\n",
            "|      Date|    period|\n",
            "+----------+----------+\n",
            "|2016-07-01|2016-01-01|\n",
            "|2016-07-01|2016-01-01|\n",
            "|2016-07-01|2016-01-01|\n",
            "|2016-07-01|2016-01-01|\n",
            "+----------+----------+\n",
            "only showing top 4 rows\n",
            "\n"
          ],
          "name": "stdout"
        }
      ]
    },
    {
      "cell_type": "code",
      "metadata": {
        "colab": {
          "base_uri": "https://localhost:8080/",
          "height": 367
        },
        "id": "-lioGIxgPYkh",
        "outputId": "67a514b7-e7b3-4d03-fcd1-db7777814eb5"
      },
      "source": [
        "sentiment3 = sentiment.select(\"Date\", \"News\", \"tokens\", 'sentimentScore').withColumn(\"Date\", to_date(col(\"Date\"), 'yyyy-mm-dd').alias('period')).show(5)\n",
        "sentiment3.dtypes"
      ],
      "execution_count": 95,
      "outputs": [
        {
          "output_type": "stream",
          "text": [
            "+----------+--------------------+------+--------------+\n",
            "|      Date|                News|tokens|sentimentScore|\n",
            "+----------+--------------------+------+--------------+\n",
            "|2016-01-01|A 117-year-old wo...|    19|       -0.5574|\n",
            "|2016-01-01|IMF chief backs A...|     7|       -0.0516|\n",
            "|2016-01-01|The president of ...|     7|        0.5719|\n",
            "|2016-01-01|British Man Who M...|    21|       -0.8658|\n",
            "|2016-01-01|100+ Nobel laurea...|     8|        -0.296|\n",
            "+----------+--------------------+------+--------------+\n",
            "only showing top 5 rows\n",
            "\n"
          ],
          "name": "stdout"
        },
        {
          "output_type": "error",
          "ename": "AttributeError",
          "evalue": "ignored",
          "traceback": [
            "\u001b[0;31m---------------------------------------------------------------------------\u001b[0m",
            "\u001b[0;31mAttributeError\u001b[0m                            Traceback (most recent call last)",
            "\u001b[0;32m<ipython-input-95-53c03913ccb0>\u001b[0m in \u001b[0;36m<module>\u001b[0;34m()\u001b[0m\n\u001b[1;32m      1\u001b[0m \u001b[0msentiment3\u001b[0m \u001b[0;34m=\u001b[0m \u001b[0msentiment\u001b[0m\u001b[0;34m.\u001b[0m\u001b[0mselect\u001b[0m\u001b[0;34m(\u001b[0m\u001b[0;34m\"Date\"\u001b[0m\u001b[0;34m,\u001b[0m \u001b[0;34m\"News\"\u001b[0m\u001b[0;34m,\u001b[0m \u001b[0;34m\"tokens\"\u001b[0m\u001b[0;34m,\u001b[0m \u001b[0;34m'sentimentScore'\u001b[0m\u001b[0;34m)\u001b[0m\u001b[0;34m.\u001b[0m\u001b[0mwithColumn\u001b[0m\u001b[0;34m(\u001b[0m\u001b[0;34m\"Date\"\u001b[0m\u001b[0;34m,\u001b[0m \u001b[0mto_date\u001b[0m\u001b[0;34m(\u001b[0m\u001b[0mcol\u001b[0m\u001b[0;34m(\u001b[0m\u001b[0;34m\"Date\"\u001b[0m\u001b[0;34m)\u001b[0m\u001b[0;34m,\u001b[0m \u001b[0;34m'yyyy-mm-dd'\u001b[0m\u001b[0;34m)\u001b[0m\u001b[0;34m.\u001b[0m\u001b[0malias\u001b[0m\u001b[0;34m(\u001b[0m\u001b[0;34m'period'\u001b[0m\u001b[0;34m)\u001b[0m\u001b[0;34m)\u001b[0m\u001b[0;34m.\u001b[0m\u001b[0mshow\u001b[0m\u001b[0;34m(\u001b[0m\u001b[0;36m5\u001b[0m\u001b[0;34m)\u001b[0m\u001b[0;34m\u001b[0m\u001b[0;34m\u001b[0m\u001b[0m\n\u001b[0;32m----> 2\u001b[0;31m \u001b[0msentiment3\u001b[0m\u001b[0;34m.\u001b[0m\u001b[0mdtypes\u001b[0m\u001b[0;34m\u001b[0m\u001b[0;34m\u001b[0m\u001b[0m\n\u001b[0m",
            "\u001b[0;31mAttributeError\u001b[0m: 'NoneType' object has no attribute 'dtypes'"
          ]
        }
      ]
    },
    {
      "cell_type": "code",
      "metadata": {
        "colab": {
          "base_uri": "https://localhost:8080/"
        },
        "id": "Vfo41peQN5Da",
        "outputId": "0fbfde79-e37e-4ac6-dd56-07e10bf2f682"
      },
      "source": [
        "sentiment.show(5)"
      ],
      "execution_count": 86,
      "outputs": [
        {
          "output_type": "stream",
          "text": [
            "+----------+--------------------+--------------------+--------------------+------+--------------+\n",
            "|      Date|                News|               words|            filtered|tokens|sentimentScore|\n",
            "+----------+--------------------+--------------------+--------------------+------+--------------+\n",
            "|2016-07-01|A 117-year-old wo...|[a, 117-year-old,...|[117-year-old, wo...|    19|       -0.5574|\n",
            "|2016-07-01|IMF chief backs A...|[imf, chief, back...|[imf, chief, back...|     7|       -0.0516|\n",
            "|2016-07-01|The president of ...|[the, president, ...|[president, franc...|     7|        0.5719|\n",
            "|2016-07-01|British Man Who M...|[british, man, wh...|[british, man, mu...|    21|       -0.8658|\n",
            "|2016-07-01|100+ Nobel laurea...|[100+, nobel, lau...|[100+, nobel, lau...|     8|        -0.296|\n",
            "+----------+--------------------+--------------------+--------------------+------+--------------+\n",
            "only showing top 5 rows\n",
            "\n"
          ],
          "name": "stdout"
        }
      ]
    },
    {
      "cell_type": "code",
      "metadata": {
        "colab": {
          "base_uri": "https://localhost:8080/"
        },
        "id": "yV0XW8DZIHN_",
        "outputId": "bb20d08f-cd26-4689-a6c3-002bb2cd4377"
      },
      "source": [
        "from pyspark.sql.functions import col, max as max_\n",
        "\n",
        "df = sc.parallelize([\n",
        "    (\"2016-04-06 16:36\", 1234, 111, 1),\n",
        "    (\"2016-04-06 17:35\", 1234, 111, 5),\n",
        "]).toDF([\"datetime\", \"userId\", \"memberId\", \"value\"])\n",
        "\n",
        "df.withColumn(\"datetime\", col(\"datetime\").cast(\"timestamp\")).groupBy(\"userId\", \"memberId\").agg(max_(\"datetime\")).show(2)\n",
        "\n",
        "df.show(2)"
      ],
      "execution_count": 63,
      "outputs": [
        {
          "output_type": "stream",
          "text": [
            "+------+--------+-------------------+\n",
            "|userId|memberId|      max(datetime)|\n",
            "+------+--------+-------------------+\n",
            "|  1234|     111|2016-04-06 17:35:00|\n",
            "+------+--------+-------------------+\n",
            "\n",
            "+----------------+------+--------+-----+\n",
            "|        datetime|userId|memberId|value|\n",
            "+----------------+------+--------+-----+\n",
            "|2016-04-06 16:36|  1234|     111|    1|\n",
            "|2016-04-06 17:35|  1234|     111|    5|\n",
            "+----------------+------+--------+-----+\n",
            "\n"
          ],
          "name": "stdout"
        }
      ]
    },
    {
      "cell_type": "code",
      "metadata": {
        "colab": {
          "base_uri": "https://localhost:8080/"
        },
        "id": "-upOVUovF7im",
        "outputId": "cbc89c4c-fe3f-4860-a984-881b5f8230b8"
      },
      "source": [
        "sentiment2 = sentiment.groupBy('Date').agg(avg(col('sentimentScore')).alias('avg-sentiment'))\n",
        "sentiment2.show(35)"
      ],
      "execution_count": 53,
      "outputs": [
        {
          "output_type": "stream",
          "text": [
            "+----------+--------------------+\n",
            "|      Date|       avg-sentiment|\n",
            "+----------+--------------------+\n",
            "|2015-05-01|           -0.281584|\n",
            "|2014-12-13|-0.27572800000000003|\n",
            "|2014-05-27|-0.14229599999999998|\n",
            "|2014-02-22|-0.14512799999999998|\n",
            "|2014-02-16|-0.19025999999999998|\n",
            "|2013-03-14| 0.04971999999999998|\n",
            "|2011-01-29|-0.10014799999999997|\n",
            "|2010-09-24|           -0.357788|\n",
            "|2010-02-12|-0.25953200000000004|\n",
            "|2009-12-04|           -0.250304|\n",
            "|2009-06-23|-0.30028000000000005|\n",
            "|2009-01-04|           -0.251396|\n",
            "|2008-12-03|-0.16224800000000003|\n",
            "|2008-11-19| 0.06001999999999999|\n",
            "|2008-10-26|           -0.226222|\n",
            "|2016-04-22|-0.12435999999999998|\n",
            "|2015-02-27|-0.11101600000000002|\n",
            "|2015-02-09|-0.21621600000000005|\n",
            "|2014-12-11|-0.12794800000000003|\n",
            "|2014-07-14|-0.17927200000000001|\n",
            "|2012-10-21|-0.26868400000000003|\n",
            "|2012-03-04|           -0.334596|\n",
            "|2010-03-06|           -0.196204|\n",
            "|2008-11-26|           -0.227588|\n",
            "|2008-11-07|-0.20409600000000006|\n",
            "|2016-05-21|            -0.35638|\n",
            "|2015-11-20|           -0.288756|\n",
            "|2015-02-28|-0.26896400000000004|\n",
            "|2015-02-26|           -0.320816|\n",
            "|2015-02-08|-0.20144799999999993|\n",
            "|2013-12-28|-0.30376400000000003|\n",
            "|2013-08-20|            -0.32832|\n",
            "|2012-03-09|           -0.144396|\n",
            "|2012-01-12|           -0.256628|\n",
            "|2011-07-16|-0.24629200000000004|\n",
            "+----------+--------------------+\n",
            "only showing top 35 rows\n",
            "\n"
          ],
          "name": "stdout"
        }
      ]
    },
    {
      "cell_type": "code",
      "metadata": {
        "id": "GtZ3pcpvxg9S"
      },
      "source": [
        "df.groupBy(\"department\",\"state\")\n",
        "    .sum(\"salary\",\"bonus\")\n",
        "    .show(false)"
      ],
      "execution_count": null,
      "outputs": []
    },
    {
      "cell_type": "code",
      "metadata": {
        "id": "nRNHDsmwxg1A"
      },
      "source": [
        ""
      ],
      "execution_count": null,
      "outputs": []
    },
    {
      "cell_type": "code",
      "metadata": {
        "id": "k1wBlSc6xgtx"
      },
      "source": [
        ""
      ],
      "execution_count": null,
      "outputs": []
    },
    {
      "cell_type": "code",
      "metadata": {
        "id": "uVGmwqiTxgm5"
      },
      "source": [
        ""
      ],
      "execution_count": null,
      "outputs": []
    },
    {
      "cell_type": "code",
      "metadata": {
        "id": "AntYeLKoxW8b"
      },
      "source": [
        ""
      ],
      "execution_count": null,
      "outputs": []
    },
    {
      "cell_type": "code",
      "metadata": {
        "id": "P8hg9g6WVZQE"
      },
      "source": [
        "fill = udf(lambda x: vader.polarity_scores(x)['compound'], IntegerType())"
      ],
      "execution_count": 25,
      "outputs": []
    },
    {
      "cell_type": "code",
      "metadata": {
        "colab": {
          "base_uri": "https://localhost:8080/",
          "height": 180
        },
        "id": "oNKGM0IfXNb_",
        "outputId": "8cf41d18-6002-4506-ba5f-d23123dda713"
      },
      "source": [
        "filler = vader.polarity_scores(inputCol=\"words\", outputCol=\"semantic\")\n",
        "news_2 = filler.transform(news2)"
      ],
      "execution_count": 26,
      "outputs": [
        {
          "output_type": "error",
          "ename": "TypeError",
          "evalue": "ignored",
          "traceback": [
            "\u001b[0;31m---------------------------------------------------------------------------\u001b[0m",
            "\u001b[0;31mTypeError\u001b[0m                                 Traceback (most recent call last)",
            "\u001b[0;32m<ipython-input-26-37d2fd34c0ca>\u001b[0m in \u001b[0;36m<module>\u001b[0;34m()\u001b[0m\n\u001b[0;32m----> 1\u001b[0;31m \u001b[0mfiller\u001b[0m \u001b[0;34m=\u001b[0m \u001b[0mvader\u001b[0m\u001b[0;34m.\u001b[0m\u001b[0mpolarity_scores\u001b[0m\u001b[0;34m(\u001b[0m\u001b[0minputCol\u001b[0m\u001b[0;34m=\u001b[0m\u001b[0;34m\"words\"\u001b[0m\u001b[0;34m,\u001b[0m \u001b[0moutputCol\u001b[0m\u001b[0;34m=\u001b[0m\u001b[0;34m\"semantic\"\u001b[0m\u001b[0;34m)\u001b[0m\u001b[0;34m\u001b[0m\u001b[0;34m\u001b[0m\u001b[0m\n\u001b[0m\u001b[1;32m      2\u001b[0m \u001b[0mnews_2\u001b[0m \u001b[0;34m=\u001b[0m \u001b[0mfiller\u001b[0m\u001b[0;34m.\u001b[0m\u001b[0mtransform\u001b[0m\u001b[0;34m(\u001b[0m\u001b[0mnews2\u001b[0m\u001b[0;34m)\u001b[0m\u001b[0;34m\u001b[0m\u001b[0;34m\u001b[0m\u001b[0m\n",
            "\u001b[0;31mTypeError\u001b[0m: polarity_scores() got an unexpected keyword argument 'inputCol'"
          ]
        }
      ]
    },
    {
      "cell_type": "code",
      "metadata": {
        "id": "Y2P4dZpDXNPI"
      },
      "source": [
        ""
      ],
      "execution_count": null,
      "outputs": []
    },
    {
      "cell_type": "code",
      "metadata": {
        "colab": {
          "base_uri": "https://localhost:8080/",
          "height": 680
        },
        "id": "ltVqPHtGVi0t",
        "outputId": "78b58726-cfb0-4d45-e02c-50f05f821592"
      },
      "source": [
        "# посмотрим результат\n",
        "news2.select(\"Date\", \"News\", \"words\", \"filtered\").withColumn(\"semantic\", fill(col(\"filtered\"))).show(5)"
      ],
      "execution_count": null,
      "outputs": [
        {
          "output_type": "error",
          "ename": "PythonException",
          "evalue": "ignored",
          "traceback": [
            "\u001b[0;31m---------------------------------------------------------------------------\u001b[0m",
            "\u001b[0;31mPythonException\u001b[0m                           Traceback (most recent call last)",
            "\u001b[0;32m<ipython-input-78-31909f60f05d>\u001b[0m in \u001b[0;36m<module>\u001b[0;34m()\u001b[0m\n\u001b[1;32m      1\u001b[0m \u001b[0;31m# посмотрим результат\u001b[0m\u001b[0;34m\u001b[0m\u001b[0;34m\u001b[0m\u001b[0;34m\u001b[0m\u001b[0m\n\u001b[0;32m----> 2\u001b[0;31m \u001b[0mnews2\u001b[0m\u001b[0;34m.\u001b[0m\u001b[0mselect\u001b[0m\u001b[0;34m(\u001b[0m\u001b[0;34m\"Date\"\u001b[0m\u001b[0;34m,\u001b[0m \u001b[0;34m\"News\"\u001b[0m\u001b[0;34m,\u001b[0m \u001b[0;34m\"words\"\u001b[0m\u001b[0;34m,\u001b[0m \u001b[0;34m\"filtered\"\u001b[0m\u001b[0;34m)\u001b[0m\u001b[0;34m.\u001b[0m\u001b[0mwithColumn\u001b[0m\u001b[0;34m(\u001b[0m\u001b[0;34m\"semantic\"\u001b[0m\u001b[0;34m,\u001b[0m \u001b[0mfill\u001b[0m\u001b[0;34m(\u001b[0m\u001b[0mcol\u001b[0m\u001b[0;34m(\u001b[0m\u001b[0;34m\"filtered\"\u001b[0m\u001b[0;34m)\u001b[0m\u001b[0;34m)\u001b[0m\u001b[0;34m)\u001b[0m\u001b[0;34m.\u001b[0m\u001b[0mshow\u001b[0m\u001b[0;34m(\u001b[0m\u001b[0;36m5\u001b[0m\u001b[0;34m)\u001b[0m\u001b[0;34m\u001b[0m\u001b[0;34m\u001b[0m\u001b[0m\n\u001b[0m",
            "\u001b[0;32m/content/spark-3.0.2-bin-hadoop3.2/python/pyspark/sql/dataframe.py\u001b[0m in \u001b[0;36mshow\u001b[0;34m(self, n, truncate, vertical)\u001b[0m\n\u001b[1;32m    438\u001b[0m         \"\"\"\n\u001b[1;32m    439\u001b[0m         \u001b[0;32mif\u001b[0m \u001b[0misinstance\u001b[0m\u001b[0;34m(\u001b[0m\u001b[0mtruncate\u001b[0m\u001b[0;34m,\u001b[0m \u001b[0mbool\u001b[0m\u001b[0;34m)\u001b[0m \u001b[0;32mand\u001b[0m \u001b[0mtruncate\u001b[0m\u001b[0;34m:\u001b[0m\u001b[0;34m\u001b[0m\u001b[0;34m\u001b[0m\u001b[0m\n\u001b[0;32m--> 440\u001b[0;31m             \u001b[0mprint\u001b[0m\u001b[0;34m(\u001b[0m\u001b[0mself\u001b[0m\u001b[0;34m.\u001b[0m\u001b[0m_jdf\u001b[0m\u001b[0;34m.\u001b[0m\u001b[0mshowString\u001b[0m\u001b[0;34m(\u001b[0m\u001b[0mn\u001b[0m\u001b[0;34m,\u001b[0m \u001b[0;36m20\u001b[0m\u001b[0;34m,\u001b[0m \u001b[0mvertical\u001b[0m\u001b[0;34m)\u001b[0m\u001b[0;34m)\u001b[0m\u001b[0;34m\u001b[0m\u001b[0;34m\u001b[0m\u001b[0m\n\u001b[0m\u001b[1;32m    441\u001b[0m         \u001b[0;32melse\u001b[0m\u001b[0;34m:\u001b[0m\u001b[0;34m\u001b[0m\u001b[0;34m\u001b[0m\u001b[0m\n\u001b[1;32m    442\u001b[0m             \u001b[0mprint\u001b[0m\u001b[0;34m(\u001b[0m\u001b[0mself\u001b[0m\u001b[0;34m.\u001b[0m\u001b[0m_jdf\u001b[0m\u001b[0;34m.\u001b[0m\u001b[0mshowString\u001b[0m\u001b[0;34m(\u001b[0m\u001b[0mn\u001b[0m\u001b[0;34m,\u001b[0m \u001b[0mint\u001b[0m\u001b[0;34m(\u001b[0m\u001b[0mtruncate\u001b[0m\u001b[0;34m)\u001b[0m\u001b[0;34m,\u001b[0m \u001b[0mvertical\u001b[0m\u001b[0;34m)\u001b[0m\u001b[0;34m)\u001b[0m\u001b[0;34m\u001b[0m\u001b[0;34m\u001b[0m\u001b[0m\n",
            "\u001b[0;32m/content/spark-3.0.2-bin-hadoop3.2/python/lib/py4j-0.10.9-src.zip/py4j/java_gateway.py\u001b[0m in \u001b[0;36m__call__\u001b[0;34m(self, *args)\u001b[0m\n\u001b[1;32m   1303\u001b[0m         \u001b[0manswer\u001b[0m \u001b[0;34m=\u001b[0m \u001b[0mself\u001b[0m\u001b[0;34m.\u001b[0m\u001b[0mgateway_client\u001b[0m\u001b[0;34m.\u001b[0m\u001b[0msend_command\u001b[0m\u001b[0;34m(\u001b[0m\u001b[0mcommand\u001b[0m\u001b[0;34m)\u001b[0m\u001b[0;34m\u001b[0m\u001b[0;34m\u001b[0m\u001b[0m\n\u001b[1;32m   1304\u001b[0m         return_value = get_return_value(\n\u001b[0;32m-> 1305\u001b[0;31m             answer, self.gateway_client, self.target_id, self.name)\n\u001b[0m\u001b[1;32m   1306\u001b[0m \u001b[0;34m\u001b[0m\u001b[0m\n\u001b[1;32m   1307\u001b[0m         \u001b[0;32mfor\u001b[0m \u001b[0mtemp_arg\u001b[0m \u001b[0;32min\u001b[0m \u001b[0mtemp_args\u001b[0m\u001b[0;34m:\u001b[0m\u001b[0;34m\u001b[0m\u001b[0;34m\u001b[0m\u001b[0m\n",
            "\u001b[0;32m/content/spark-3.0.2-bin-hadoop3.2/python/pyspark/sql/utils.py\u001b[0m in \u001b[0;36mdeco\u001b[0;34m(*a, **kw)\u001b[0m\n\u001b[1;32m    132\u001b[0m                 \u001b[0;31m# Hide where the exception came from that shows a non-Pythonic\u001b[0m\u001b[0;34m\u001b[0m\u001b[0;34m\u001b[0m\u001b[0;34m\u001b[0m\u001b[0m\n\u001b[1;32m    133\u001b[0m                 \u001b[0;31m# JVM exception message.\u001b[0m\u001b[0;34m\u001b[0m\u001b[0;34m\u001b[0m\u001b[0;34m\u001b[0m\u001b[0m\n\u001b[0;32m--> 134\u001b[0;31m                 \u001b[0mraise_from\u001b[0m\u001b[0;34m(\u001b[0m\u001b[0mconverted\u001b[0m\u001b[0;34m)\u001b[0m\u001b[0;34m\u001b[0m\u001b[0;34m\u001b[0m\u001b[0m\n\u001b[0m\u001b[1;32m    135\u001b[0m             \u001b[0;32melse\u001b[0m\u001b[0;34m:\u001b[0m\u001b[0;34m\u001b[0m\u001b[0;34m\u001b[0m\u001b[0m\n\u001b[1;32m    136\u001b[0m                 \u001b[0;32mraise\u001b[0m\u001b[0;34m\u001b[0m\u001b[0;34m\u001b[0m\u001b[0m\n",
            "\u001b[0;32m/content/spark-3.0.2-bin-hadoop3.2/python/pyspark/sql/utils.py\u001b[0m in \u001b[0;36mraise_from\u001b[0;34m(e)\u001b[0m\n",
            "\u001b[0;31mPythonException\u001b[0m: \n  An exception was thrown from the Python worker. Please see the stack trace below.\nTraceback (most recent call last):\n  File \"/content/spark-3.0.2-bin-hadoop3.2/python/lib/pyspark.zip/pyspark/worker.py\", line 605, in main\n    process()\n  File \"/content/spark-3.0.2-bin-hadoop3.2/python/lib/pyspark.zip/pyspark/worker.py\", line 597, in process\n    serializer.dump_stream(out_iter, outfile)\n  File \"/content/spark-3.0.2-bin-hadoop3.2/python/lib/pyspark.zip/pyspark/serializers.py\", line 223, in dump_stream\n    self.serializer.dump_stream(self._batched(iterator), stream)\n  File \"/content/spark-3.0.2-bin-hadoop3.2/python/lib/pyspark.zip/pyspark/serializers.py\", line 141, in dump_stream\n    for obj in iterator:\n  File \"/content/spark-3.0.2-bin-hadoop3.2/python/lib/pyspark.zip/pyspark/serializers.py\", line 212, in _batched\n    for item in iterator:\n  File \"/content/spark-3.0.2-bin-hadoop3.2/python/lib/pyspark.zip/pyspark/worker.py\", line 450, in mapper\n    result = tuple(f(*[a[o] for o in arg_offsets]) for (arg_offsets, f) in udfs)\n  File \"/content/spark-3.0.2-bin-hadoop3.2/python/lib/pyspark.zip/pyspark/worker.py\", line 450, in <genexpr>\n    result = tuple(f(*[a[o] for o in arg_offsets]) for (arg_offsets, f) in udfs)\n  File \"/content/spark-3.0.2-bin-hadoop3.2/python/lib/pyspark.zip/pyspark/worker.py\", line 90, in <lambda>\n    return lambda *a: f(*a)\n  File \"/content/spark-3.0.2-bin-hadoop3.2/python/lib/pyspark.zip/pyspark/util.py\", line 107, in wrapper\n    return f(*args, **kwargs)\n  File \"<ipython-input-76-9e882f7a0254>\", line 1, in <lambda>\n  File \"/usr/local/lib/python3.7/dist-packages/nltk/sentiment/vader.py\", line 219, in polarity_scores\n    sentitext = SentiText(text)\n  File \"/usr/local/lib/python3.7/dist-packages/nltk/sentiment/vader.py\", line 154, in __init__\n    text = str(text.encode('utf-8'))\nAttributeError: 'list' object has no attribute 'encode'\n"
          ]
        }
      ]
    },
    {
      "cell_type": "code",
      "metadata": {
        "id": "xA0Fp3spVZC3"
      },
      "source": [
        "countTokens = udf(lambda words: len(words), IntegerType()) # разбили все предложения на слова и посчитали их"
      ],
      "execution_count": null,
      "outputs": []
    },
    {
      "cell_type": "code",
      "metadata": {
        "colab": {
          "base_uri": "https://localhost:8080/",
          "height": 408
        },
        "id": "tCt1Xa3uTB1z",
        "outputId": "b5949ec9-0f00-408a-c1e9-700def562a87"
      },
      "source": [
        "udfSentimentScore = udf(getSentimentScore)\n",
        "dfSentimentScore = news2.withColumn('sentimentScore', udfSentimentScore('News'))\n",
        "dfSentimentScore.select('filtered','sentimentScore').show(5)\n",
        "display(dfSentimentScore.show(5))"
      ],
      "execution_count": null,
      "outputs": [
        {
          "output_type": "stream",
          "text": [
            "+--------------------+--------------+\n",
            "|            filtered|sentimentScore|\n",
            "+--------------------+--------------+\n",
            "|[117-year-old, wo...|       -0.5574|\n",
            "|[imf, chief, back...|       -0.0516|\n",
            "|[president, franc...|        0.5719|\n",
            "|[british, man, mu...|       -0.8658|\n",
            "|[100+, nobel, lau...|        -0.296|\n",
            "+--------------------+--------------+\n",
            "only showing top 5 rows\n",
            "\n",
            "+----------+--------------------+--------------------+--------------------+------+--------------+\n",
            "|      Date|                News|               words|            filtered|tokens|sentimentScore|\n",
            "+----------+--------------------+--------------------+--------------------+------+--------------+\n",
            "|2016-07-01|A 117-year-old wo...|[a, 117-year-old,...|[117-year-old, wo...|    19|       -0.5574|\n",
            "|2016-07-01|IMF chief backs A...|[imf, chief, back...|[imf, chief, back...|     7|       -0.0516|\n",
            "|2016-07-01|The president of ...|[the, president, ...|[president, franc...|     7|        0.5719|\n",
            "|2016-07-01|British Man Who M...|[british, man, wh...|[british, man, mu...|    21|       -0.8658|\n",
            "|2016-07-01|100+ Nobel laurea...|[100+, nobel, lau...|[100+, nobel, lau...|     8|        -0.296|\n",
            "+----------+--------------------+--------------------+--------------------+------+--------------+\n",
            "only showing top 5 rows\n",
            "\n"
          ],
          "name": "stdout"
        },
        {
          "output_type": "display_data",
          "data": {
            "text/plain": [
              "None"
            ]
          },
          "metadata": {
            "tags": []
          }
        }
      ]
    },
    {
      "cell_type": "code",
      "metadata": {
        "colab": {
          "base_uri": "https://localhost:8080/",
          "height": 221
        },
        "id": "ZpDreFtKZInb",
        "outputId": "534d9ea6-78f2-4c2a-c985-8d59a9a841d7"
      },
      "source": [
        "display(news.show(5))"
      ],
      "execution_count": null,
      "outputs": [
        {
          "output_type": "stream",
          "text": [
            "+----------+--------------------+\n",
            "|      Date|                News|\n",
            "+----------+--------------------+\n",
            "|2016-07-01|A 117-year-old wo...|\n",
            "|2016-07-01|IMF chief backs A...|\n",
            "|2016-07-01|The president of ...|\n",
            "|2016-07-01|British Man Who M...|\n",
            "|2016-07-01|100+ Nobel laurea...|\n",
            "+----------+--------------------+\n",
            "only showing top 5 rows\n",
            "\n"
          ],
          "name": "stdout"
        },
        {
          "output_type": "display_data",
          "data": {
            "text/plain": [
              "None"
            ]
          },
          "metadata": {
            "tags": []
          }
        }
      ]
    },
    {
      "cell_type": "code",
      "metadata": {
        "colab": {
          "base_uri": "https://localhost:8080/",
          "height": 221
        },
        "id": "PUvIo7-WZGVX",
        "outputId": "534d9ea6-78f2-4c2a-c985-8d59a9a841d7"
      },
      "source": [
        "display(news.show(5))"
      ],
      "execution_count": null,
      "outputs": [
        {
          "output_type": "stream",
          "text": [
            "+----------+--------------------+\n",
            "|      Date|                News|\n",
            "+----------+--------------------+\n",
            "|2016-07-01|A 117-year-old wo...|\n",
            "|2016-07-01|IMF chief backs A...|\n",
            "|2016-07-01|The president of ...|\n",
            "|2016-07-01|British Man Who M...|\n",
            "|2016-07-01|100+ Nobel laurea...|\n",
            "+----------+--------------------+\n",
            "only showing top 5 rows\n",
            "\n"
          ],
          "name": "stdout"
        },
        {
          "output_type": "display_data",
          "data": {
            "text/plain": [
              "None"
            ]
          },
          "metadata": {
            "tags": []
          }
        }
      ]
    },
    {
      "cell_type": "code",
      "metadata": {
        "colab": {
          "base_uri": "https://localhost:8080/",
          "height": 221
        },
        "id": "glPgnuhnZFAr",
        "outputId": "534d9ea6-78f2-4c2a-c985-8d59a9a841d7"
      },
      "source": [
        "display(news.show(5))"
      ],
      "execution_count": null,
      "outputs": [
        {
          "output_type": "stream",
          "text": [
            "+----------+--------------------+\n",
            "|      Date|                News|\n",
            "+----------+--------------------+\n",
            "|2016-07-01|A 117-year-old wo...|\n",
            "|2016-07-01|IMF chief backs A...|\n",
            "|2016-07-01|The president of ...|\n",
            "|2016-07-01|British Man Who M...|\n",
            "|2016-07-01|100+ Nobel laurea...|\n",
            "+----------+--------------------+\n",
            "only showing top 5 rows\n",
            "\n"
          ],
          "name": "stdout"
        },
        {
          "output_type": "display_data",
          "data": {
            "text/plain": [
              "None"
            ]
          },
          "metadata": {
            "tags": []
          }
        }
      ]
    },
    {
      "cell_type": "code",
      "metadata": {
        "id": "JNrV0Gg0OQh-"
      },
      "source": [
        "fill = udf(lambda x: vader.polarity_scores(x))\n"
      ],
      "execution_count": null,
      "outputs": []
    },
    {
      "cell_type": "code",
      "metadata": {
        "id": "Ci3qcsYYR8ti"
      },
      "source": [
        "def fill(score):\n",
        "    return vader.polarity_scores"
      ],
      "execution_count": null,
      "outputs": []
    },
    {
      "cell_type": "code",
      "metadata": {
        "colab": {
          "base_uri": "https://localhost:8080/",
          "height": 697
        },
        "id": "kOJCYXvGGSi6",
        "outputId": "57b7d96f-aa98-4da3-d58f-ca6b257e0dcd"
      },
      "source": [
        "fill = udf(lambda x: vader.polarity_scores(x)[''])\n",
        "\n",
        "news_2 = news2.withColumn('compound', fill(col('filtered')))\n",
        "news_2.show(5)"
      ],
      "execution_count": null,
      "outputs": [
        {
          "output_type": "error",
          "ename": "PythonException",
          "evalue": "ignored",
          "traceback": [
            "\u001b[0;31m---------------------------------------------------------------------------\u001b[0m",
            "\u001b[0;31mPythonException\u001b[0m                           Traceback (most recent call last)",
            "\u001b[0;32m<ipython-input-61-51f1014002a4>\u001b[0m in \u001b[0;36m<module>\u001b[0;34m()\u001b[0m\n\u001b[1;32m      2\u001b[0m \u001b[0;34m\u001b[0m\u001b[0m\n\u001b[1;32m      3\u001b[0m \u001b[0mnews_2\u001b[0m \u001b[0;34m=\u001b[0m \u001b[0mnews2\u001b[0m\u001b[0;34m.\u001b[0m\u001b[0mwithColumn\u001b[0m\u001b[0;34m(\u001b[0m\u001b[0;34m'compound'\u001b[0m\u001b[0;34m,\u001b[0m\u001b[0mfill\u001b[0m\u001b[0;34m(\u001b[0m\u001b[0mcol\u001b[0m\u001b[0;34m(\u001b[0m\u001b[0;34m'filtered'\u001b[0m\u001b[0;34m)\u001b[0m\u001b[0;34m)\u001b[0m\u001b[0;34m)\u001b[0m\u001b[0;34m\u001b[0m\u001b[0;34m\u001b[0m\u001b[0m\n\u001b[0;32m----> 4\u001b[0;31m \u001b[0mnews_2\u001b[0m\u001b[0;34m.\u001b[0m\u001b[0mshow\u001b[0m\u001b[0;34m(\u001b[0m\u001b[0;36m5\u001b[0m\u001b[0;34m)\u001b[0m\u001b[0;34m\u001b[0m\u001b[0;34m\u001b[0m\u001b[0m\n\u001b[0m",
            "\u001b[0;32m/content/spark-3.0.2-bin-hadoop3.2/python/pyspark/sql/dataframe.py\u001b[0m in \u001b[0;36mshow\u001b[0;34m(self, n, truncate, vertical)\u001b[0m\n\u001b[1;32m    438\u001b[0m         \"\"\"\n\u001b[1;32m    439\u001b[0m         \u001b[0;32mif\u001b[0m \u001b[0misinstance\u001b[0m\u001b[0;34m(\u001b[0m\u001b[0mtruncate\u001b[0m\u001b[0;34m,\u001b[0m \u001b[0mbool\u001b[0m\u001b[0;34m)\u001b[0m \u001b[0;32mand\u001b[0m \u001b[0mtruncate\u001b[0m\u001b[0;34m:\u001b[0m\u001b[0;34m\u001b[0m\u001b[0;34m\u001b[0m\u001b[0m\n\u001b[0;32m--> 440\u001b[0;31m             \u001b[0mprint\u001b[0m\u001b[0;34m(\u001b[0m\u001b[0mself\u001b[0m\u001b[0;34m.\u001b[0m\u001b[0m_jdf\u001b[0m\u001b[0;34m.\u001b[0m\u001b[0mshowString\u001b[0m\u001b[0;34m(\u001b[0m\u001b[0mn\u001b[0m\u001b[0;34m,\u001b[0m \u001b[0;36m20\u001b[0m\u001b[0;34m,\u001b[0m \u001b[0mvertical\u001b[0m\u001b[0;34m)\u001b[0m\u001b[0;34m)\u001b[0m\u001b[0;34m\u001b[0m\u001b[0;34m\u001b[0m\u001b[0m\n\u001b[0m\u001b[1;32m    441\u001b[0m         \u001b[0;32melse\u001b[0m\u001b[0;34m:\u001b[0m\u001b[0;34m\u001b[0m\u001b[0;34m\u001b[0m\u001b[0m\n\u001b[1;32m    442\u001b[0m             \u001b[0mprint\u001b[0m\u001b[0;34m(\u001b[0m\u001b[0mself\u001b[0m\u001b[0;34m.\u001b[0m\u001b[0m_jdf\u001b[0m\u001b[0;34m.\u001b[0m\u001b[0mshowString\u001b[0m\u001b[0;34m(\u001b[0m\u001b[0mn\u001b[0m\u001b[0;34m,\u001b[0m \u001b[0mint\u001b[0m\u001b[0;34m(\u001b[0m\u001b[0mtruncate\u001b[0m\u001b[0;34m)\u001b[0m\u001b[0;34m,\u001b[0m \u001b[0mvertical\u001b[0m\u001b[0;34m)\u001b[0m\u001b[0;34m)\u001b[0m\u001b[0;34m\u001b[0m\u001b[0;34m\u001b[0m\u001b[0m\n",
            "\u001b[0;32m/content/spark-3.0.2-bin-hadoop3.2/python/lib/py4j-0.10.9-src.zip/py4j/java_gateway.py\u001b[0m in \u001b[0;36m__call__\u001b[0;34m(self, *args)\u001b[0m\n\u001b[1;32m   1303\u001b[0m         \u001b[0manswer\u001b[0m \u001b[0;34m=\u001b[0m \u001b[0mself\u001b[0m\u001b[0;34m.\u001b[0m\u001b[0mgateway_client\u001b[0m\u001b[0;34m.\u001b[0m\u001b[0msend_command\u001b[0m\u001b[0;34m(\u001b[0m\u001b[0mcommand\u001b[0m\u001b[0;34m)\u001b[0m\u001b[0;34m\u001b[0m\u001b[0;34m\u001b[0m\u001b[0m\n\u001b[1;32m   1304\u001b[0m         return_value = get_return_value(\n\u001b[0;32m-> 1305\u001b[0;31m             answer, self.gateway_client, self.target_id, self.name)\n\u001b[0m\u001b[1;32m   1306\u001b[0m \u001b[0;34m\u001b[0m\u001b[0m\n\u001b[1;32m   1307\u001b[0m         \u001b[0;32mfor\u001b[0m \u001b[0mtemp_arg\u001b[0m \u001b[0;32min\u001b[0m \u001b[0mtemp_args\u001b[0m\u001b[0;34m:\u001b[0m\u001b[0;34m\u001b[0m\u001b[0;34m\u001b[0m\u001b[0m\n",
            "\u001b[0;32m/content/spark-3.0.2-bin-hadoop3.2/python/pyspark/sql/utils.py\u001b[0m in \u001b[0;36mdeco\u001b[0;34m(*a, **kw)\u001b[0m\n\u001b[1;32m    132\u001b[0m                 \u001b[0;31m# Hide where the exception came from that shows a non-Pythonic\u001b[0m\u001b[0;34m\u001b[0m\u001b[0;34m\u001b[0m\u001b[0;34m\u001b[0m\u001b[0m\n\u001b[1;32m    133\u001b[0m                 \u001b[0;31m# JVM exception message.\u001b[0m\u001b[0;34m\u001b[0m\u001b[0;34m\u001b[0m\u001b[0;34m\u001b[0m\u001b[0m\n\u001b[0;32m--> 134\u001b[0;31m                 \u001b[0mraise_from\u001b[0m\u001b[0;34m(\u001b[0m\u001b[0mconverted\u001b[0m\u001b[0;34m)\u001b[0m\u001b[0;34m\u001b[0m\u001b[0;34m\u001b[0m\u001b[0m\n\u001b[0m\u001b[1;32m    135\u001b[0m             \u001b[0;32melse\u001b[0m\u001b[0;34m:\u001b[0m\u001b[0;34m\u001b[0m\u001b[0;34m\u001b[0m\u001b[0m\n\u001b[1;32m    136\u001b[0m                 \u001b[0;32mraise\u001b[0m\u001b[0;34m\u001b[0m\u001b[0;34m\u001b[0m\u001b[0m\n",
            "\u001b[0;32m/content/spark-3.0.2-bin-hadoop3.2/python/pyspark/sql/utils.py\u001b[0m in \u001b[0;36mraise_from\u001b[0;34m(e)\u001b[0m\n",
            "\u001b[0;31mPythonException\u001b[0m: \n  An exception was thrown from the Python worker. Please see the stack trace below.\nTraceback (most recent call last):\n  File \"/content/spark-3.0.2-bin-hadoop3.2/python/lib/pyspark.zip/pyspark/worker.py\", line 605, in main\n    process()\n  File \"/content/spark-3.0.2-bin-hadoop3.2/python/lib/pyspark.zip/pyspark/worker.py\", line 597, in process\n    serializer.dump_stream(out_iter, outfile)\n  File \"/content/spark-3.0.2-bin-hadoop3.2/python/lib/pyspark.zip/pyspark/serializers.py\", line 223, in dump_stream\n    self.serializer.dump_stream(self._batched(iterator), stream)\n  File \"/content/spark-3.0.2-bin-hadoop3.2/python/lib/pyspark.zip/pyspark/serializers.py\", line 141, in dump_stream\n    for obj in iterator:\n  File \"/content/spark-3.0.2-bin-hadoop3.2/python/lib/pyspark.zip/pyspark/serializers.py\", line 212, in _batched\n    for item in iterator:\n  File \"/content/spark-3.0.2-bin-hadoop3.2/python/lib/pyspark.zip/pyspark/worker.py\", line 450, in mapper\n    result = tuple(f(*[a[o] for o in arg_offsets]) for (arg_offsets, f) in udfs)\n  File \"/content/spark-3.0.2-bin-hadoop3.2/python/lib/pyspark.zip/pyspark/worker.py\", line 450, in <genexpr>\n    result = tuple(f(*[a[o] for o in arg_offsets]) for (arg_offsets, f) in udfs)\n  File \"/content/spark-3.0.2-bin-hadoop3.2/python/lib/pyspark.zip/pyspark/worker.py\", line 90, in <lambda>\n    return lambda *a: f(*a)\n  File \"/content/spark-3.0.2-bin-hadoop3.2/python/lib/pyspark.zip/pyspark/util.py\", line 107, in wrapper\n    return f(*args, **kwargs)\n  File \"<ipython-input-61-51f1014002a4>\", line 1, in <lambda>\n  File \"/usr/local/lib/python3.7/dist-packages/nltk/sentiment/vader.py\", line 219, in polarity_scores\n    sentitext = SentiText(text)\n  File \"/usr/local/lib/python3.7/dist-packages/nltk/sentiment/vader.py\", line 154, in __init__\n    text = str(text.encode('utf-8'))\nAttributeError: 'list' object has no attribute 'encode'\n"
          ]
        }
      ]
    },
    {
      "cell_type": "code",
      "metadata": {
        "id": "eS0WDy2cKzz6"
      },
      "source": [
        "fill = udf(lambda title: vader.polarity_scores(title['compound']))"
      ],
      "execution_count": null,
      "outputs": []
    },
    {
      "cell_type": "code",
      "metadata": {
        "colab": {
          "base_uri": "https://localhost:8080/",
          "height": 197
        },
        "id": "pG6HMDXARfdH",
        "outputId": "b99db44a-f06e-4a9b-c783-8d92640b25e7"
      },
      "source": [
        "udfSentimentScore = udf(fill, FloatType())\n",
        "dfSentimentScore = news_2.withColumn('sentimentScore', news_2('filtered'))\n",
        "dfSentimentScore.select('filtered','sentimentScore').show(5)"
      ],
      "execution_count": null,
      "outputs": [
        {
          "output_type": "error",
          "ename": "NameError",
          "evalue": "ignored",
          "traceback": [
            "\u001b[0;31m---------------------------------------------------------------------------\u001b[0m",
            "\u001b[0;31mNameError\u001b[0m                                 Traceback (most recent call last)",
            "\u001b[0;32m<ipython-input-64-4f4239f5ee91>\u001b[0m in \u001b[0;36m<module>\u001b[0;34m()\u001b[0m\n\u001b[0;32m----> 1\u001b[0;31m \u001b[0mudfSentimentScore\u001b[0m \u001b[0;34m=\u001b[0m \u001b[0mudf\u001b[0m\u001b[0;34m(\u001b[0m\u001b[0mfill\u001b[0m\u001b[0;34m,\u001b[0m \u001b[0mFloatType\u001b[0m\u001b[0;34m(\u001b[0m\u001b[0;34m)\u001b[0m\u001b[0;34m)\u001b[0m\u001b[0;34m\u001b[0m\u001b[0;34m\u001b[0m\u001b[0m\n\u001b[0m\u001b[1;32m      2\u001b[0m \u001b[0mdfSentimentScore\u001b[0m \u001b[0;34m=\u001b[0m \u001b[0mnews_2\u001b[0m\u001b[0;34m.\u001b[0m\u001b[0mwithColumn\u001b[0m\u001b[0;34m(\u001b[0m\u001b[0;34m'sentimentScore'\u001b[0m\u001b[0;34m,\u001b[0m \u001b[0mnews_2\u001b[0m\u001b[0;34m(\u001b[0m\u001b[0;34m'filtered'\u001b[0m\u001b[0;34m)\u001b[0m\u001b[0;34m)\u001b[0m\u001b[0;34m\u001b[0m\u001b[0;34m\u001b[0m\u001b[0m\n\u001b[1;32m      3\u001b[0m \u001b[0mdfSentimentScore\u001b[0m\u001b[0;34m.\u001b[0m\u001b[0mselect\u001b[0m\u001b[0;34m(\u001b[0m\u001b[0;34m'filtered'\u001b[0m\u001b[0;34m,\u001b[0m\u001b[0;34m'sentimentScore'\u001b[0m\u001b[0;34m)\u001b[0m\u001b[0;34m.\u001b[0m\u001b[0mshow\u001b[0m\u001b[0;34m(\u001b[0m\u001b[0;36m5\u001b[0m\u001b[0;34m)\u001b[0m\u001b[0;34m\u001b[0m\u001b[0;34m\u001b[0m\u001b[0m\n",
            "\u001b[0;31mNameError\u001b[0m: name 'FloatType' is not defined"
          ]
        }
      ]
    },
    {
      "cell_type": "code",
      "metadata": {
        "id": "QZqB3Ag2RfQw"
      },
      "source": [
        ""
      ],
      "execution_count": null,
      "outputs": []
    },
    {
      "cell_type": "code",
      "metadata": {
        "id": "p9MuFdbOKzm7"
      },
      "source": [
        "upperCaseUDF = udf(lambda z:upperCase(z),StringType())   \n",
        "\n",
        "df.withColumn(\"Cureated Name\", upperCaseUDF(col(\"Name\"))) \\\n",
        "  .show(truncate=False)"
      ],
      "execution_count": null,
      "outputs": []
    },
    {
      "cell_type": "code",
      "metadata": {
        "id": "Fd9QKElj__E4"
      },
      "source": [
        "from textblob import TextBlob"
      ],
      "execution_count": null,
      "outputs": []
    },
    {
      "cell_type": "code",
      "metadata": {
        "id": "CR7U1nc7Bcr5"
      },
      "source": [
        "udfSentimentScore = udf(getSentimentScore, FloatType())\n",
        "dfSentimentScore = dfFilteredCleanedTweet.withColumn('sentimentScore', udfSentimentScore('filteredCleanedTweetText'))\n",
        "dfSentimentScore.select('filteredCleanedTweetText','sentimentScore').show(5)"
      ],
      "execution_count": null,
      "outputs": []
    },
    {
      "cell_type": "code",
      "metadata": {
        "id": "8DuwrUwCwWJ4"
      },
      "source": [
        "sentiment = udf(lambda x: TextBlob(x).sentiment[0])\n",
        "spark.udf.register(“sentiment”, sentiment)\n",
        "news = news.withColumn(‘sentiment’,sentiment(‘text’).cast(‘double’))"
      ],
      "execution_count": null,
      "outputs": []
    },
    {
      "cell_type": "code",
      "metadata": {
        "id": "gkEjn7vGj4XB"
      },
      "source": [
        "def apply_blob(sentence):\n",
        "    temp = TextBlob(sentence).sentiment[0]\n",
        "    if temp == 0.0:\n",
        "        return 0.0 # Neutral\n",
        "    elif temp >= 0.0:\n",
        "        return 1.0 # Positive\n",
        "    else:\n",
        "        return 2.0 # Negative\n",
        "\n",
        "#link to source: https://www.kdnuggets.com/2019/05/analyzing-tweets-nlp-spark-optimus-twint.html/"
      ],
      "execution_count": null,
      "outputs": []
    },
    {
      "cell_type": "code",
      "metadata": {
        "id": "9ddS6EcLj-jL"
      },
      "source": [
        "sentiment = udf(apply_blob)"
      ],
      "execution_count": null,
      "outputs": []
    },
    {
      "cell_type": "code",
      "metadata": {
        "id": "-_pjF8gkkO2d"
      },
      "source": [
        "clean_tweets.withColumn(\"sentiment\", sentiment(clean_tweets['tweet'])).show()"
      ],
      "execution_count": null,
      "outputs": []
    }
  ]
}